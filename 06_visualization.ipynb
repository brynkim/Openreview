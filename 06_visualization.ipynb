{
 "cells": [
  {
   "cell_type": "markdown",
   "metadata": {},
   "source": [
    "ENVIRON"
   ]
  },
  {
   "cell_type": "code",
   "execution_count": 47,
   "metadata": {},
   "outputs": [],
   "source": [
    "import pandas as pd\n",
    "import matplotlib.pyplot as plt"
   ]
  },
  {
   "cell_type": "code",
   "execution_count": 48,
   "metadata": {},
   "outputs": [],
   "source": [
    "from bertopic import BERTopic\n",
    "import tomotopy as tp"
   ]
  },
  {
   "cell_type": "code",
   "execution_count": 49,
   "metadata": {},
   "outputs": [],
   "source": [
    "from sklearn.tree import DecisionTreeClassifier"
   ]
  },
  {
   "cell_type": "code",
   "execution_count": null,
   "metadata": {},
   "outputs": [],
   "source": [
    "def visualize_lda(mdl):\n",
    "    topic_term_dists = np.stack([mdl.get_topic_word_dist(k) for k in range(mdl.k)])\n",
    "    doc_topic_dists = np.stack([doc.get_topic_dist() for doc in mdl.docs])\n",
    "    doc_topic_dists /= doc_topic_dists.sum(axis=1, keepdims=True)\n",
    "    doc_lengths = np.array([len(doc.words) for doc in mdl.docs])\n",
    "    vocab = list(mdl.used_vocabs)\n",
    "    term_frequency = mdl.used_vocab_freq\n",
    "\n",
    "    prepared_data = pyLDAvis.prepare(\n",
    "        topic_term_dists, \n",
    "        doc_topic_dists, \n",
    "        doc_lengths, \n",
    "        vocab, \n",
    "        term_frequency,\n",
    "        start_index=0, # tomotopy starts topic ids with 0, pyLDAvis with 1\n",
    "        sort_topics=False # IMPORTANT: otherwise the topic_ids between pyLDAvis and tomotopy are not matching!\n",
    "    )"
   ]
  },
  {
   "cell_type": "markdown",
   "metadata": {},
   "source": [
    "DATASET"
   ]
  },
  {
   "cell_type": "code",
   "execution_count": 2,
   "metadata": {},
   "outputs": [],
   "source": [
    "abstract_bertopic_df = pd.read_csv('./data/abstract-bertopic.csv', index_col = 0, low_memory = False)\n",
    "review_bertopic_df = pd.read_csv('./data/review-bertopic.csv', index_col = 0, low_memory = False)\n",
    "abstract_lda_df = pd.read_csv('./data/abstract_lda.csv', index_col = 0, low_memory = False)\n",
    "review_lda_df = pd.read_csv('./data/review_lda.csv', index_col = 0, low_memory = False)"
   ]
  },
  {
   "cell_type": "code",
   "execution_count": 3,
   "metadata": {},
   "outputs": [],
   "source": [
    "abstract_bertopic_model = BERTopic.load('./model/topic_model_unreduced.pkl')\n",
    "review_bertopic_model = BERTopic.load('./model/topic_model_review_unreduced.pkl')\n",
    "abstract_lda_model = tp.LDAModel.load('./model/lda-abstract-best.pkl')\n",
    "review_lda_model = tp.LDAModel.load('./model/lda-review-best.pkl')"
   ]
  },
  {
   "cell_type": "code",
   "execution_count": 5,
   "metadata": {},
   "outputs": [
    {
     "name": "stderr",
     "output_type": "stream",
     "text": [
      "100%|██████████| 99/99 [01:17<00:00,  1.28it/s]\n",
      "100%|██████████| 100/100 [03:14<00:00,  1.94s/it]\n"
     ]
    }
   ],
   "source": [
    "abstract_bertopic_topics = abstract_bertopic_model.approximate_distribution(abstract_bertopic_df['Abstract_Processed'])\n",
    "review_bertopic_topics = review_bertopic_model.approximate_distribution(review_bertopic_df['Full Review_Processed'])"
   ]
  },
  {
   "cell_type": "code",
   "execution_count": 10,
   "metadata": {},
   "outputs": [],
   "source": [
    "abstract_lda_topics = [doc.get_topic_dist() for doc in abstract_lda_model.docs]\n",
    "review_lda_topics = [doc.get_topic_dist() for doc in review_lda_model.docs]"
   ]
  },
  {
   "cell_type": "markdown",
   "metadata": {},
   "source": [
    "VISUALIZATION"
   ]
  },
  {
   "cell_type": "code",
   "execution_count": 52,
   "metadata": {},
   "outputs": [
    {
     "data": {
      "application/vnd.plotly.v1+json": {
       "config": {
        "plotlyServerURL": "https://plot.ly"
       },
       "data": [
        {
         "customdata": [
          [
           0,
           "paper | model | method | work | result",
           97954
          ],
          [
           1,
           "withdrawal | coauthors | behalf | confirmation | venue",
           745
          ],
          [
           2,
           "withdrawal | coauthors | behalf | confirmation | read",
           37
          ],
          [
           3,
           "withdrawal | coauthors | behalf | confirmation | read",
           35
          ],
          [
           4,
           "withdrawal | coauthors | behalf | confirmation | read",
           32
          ],
          [
           5,
           "withdrawal | coauthors | behalf | confirmation | read",
           31
          ],
          [
           6,
           "openreview | suggestionscomments | concernsquestions | ughp | 3905",
           21
          ],
          [
           7,
           "amortization | policy | gap | iterative | direct",
           15
          ],
          [
           8,
           "withdrawal | coauthors | behalf | confirmation | venue",
           14
          ],
          [
           9,
           "vumz | 3905 | suggestionscomments | concernsquestions | openreview",
           13
          ],
          [
           10,
           "dyev | 3905 | suggestionscomments | concernsquestions | openreview",
           11
          ]
         ],
         "hovertemplate": "<b>Topic %{customdata[0]}</b><br>%{customdata[1]}<br>Size: %{customdata[2]}",
         "legendgroup": "",
         "marker": {
          "color": "#B0BEC5",
          "line": {
           "color": "DarkSlateGrey",
           "width": 2
          },
          "size": [
           97954,
           745,
           37,
           35,
           32,
           31,
           21,
           15,
           14,
           13,
           11
          ],
          "sizemode": "area",
          "sizeref": 61.22125,
          "symbol": "circle"
         },
         "mode": "markers",
         "name": "",
         "orientation": "v",
         "showlegend": false,
         "type": "scatter",
         "x": [
          0.7788678407669067,
          -9.305368423461914,
          -18.90473175048828,
          -18.49178695678711,
          -19.259035110473633,
          -18.913284301757812,
          11.03443717956543,
          1.0218418836593628,
          -9.040385246276855,
          10.782234191894531,
          11.257244110107422
         ],
         "xaxis": "x",
         "y": [
          7.630955219268799,
          10.50229549407959,
          1.802319049835205,
          1.5895750522613525,
          1.5669933557510376,
          1.0207984447479248,
          13.021384239196777,
          7.873990535736084,
          10.23748779296875,
          12.769363403320312,
          13.24435043334961
         ],
         "yaxis": "y"
        }
       ],
       "layout": {
        "annotations": [
         {
          "showarrow": false,
          "text": "D1",
          "x": -22.14789037704468,
          "y": 8.049340838193894,
          "yshift": 10
         },
         {
          "showarrow": false,
          "text": "D2",
          "x": -4.6010298252105715,
          "xshift": 10,
          "y": 15.23100299835205
         }
        ],
        "height": 650,
        "hoverlabel": {
         "bgcolor": "white",
         "font": {
          "family": "Rockwell",
          "size": 16
         }
        },
        "legend": {
         "itemsizing": "constant",
         "tracegroupgap": 0
        },
        "margin": {
         "t": 60
        },
        "shapes": [
         {
          "line": {
           "color": "#CFD8DC",
           "width": 2
          },
          "type": "line",
          "x0": -4.6010298252105715,
          "x1": -4.6010298252105715,
          "y0": 0.8676786780357361,
          "y1": 15.23100299835205
         },
         {
          "line": {
           "color": "#9E9E9E",
           "width": 2
          },
          "type": "line",
          "x0": -22.14789037704468,
          "x1": 12.945830726623536,
          "y0": 8.049340838193894,
          "y1": 8.049340838193894
         }
        ],
        "sliders": [
         {
          "active": 0,
          "pad": {
           "t": 50
          },
          "steps": [
           {
            "args": [
             {
              "marker.color": [
               [
                "red",
                "#B0BEC5",
                "#B0BEC5",
                "#B0BEC5",
                "#B0BEC5",
                "#B0BEC5",
                "#B0BEC5",
                "#B0BEC5",
                "#B0BEC5",
                "#B0BEC5",
                "#B0BEC5"
               ]
              ]
             }
            ],
            "label": "Topic 0",
            "method": "update"
           },
           {
            "args": [
             {
              "marker.color": [
               [
                "#B0BEC5",
                "red",
                "#B0BEC5",
                "#B0BEC5",
                "#B0BEC5",
                "#B0BEC5",
                "#B0BEC5",
                "#B0BEC5",
                "#B0BEC5",
                "#B0BEC5",
                "#B0BEC5"
               ]
              ]
             }
            ],
            "label": "Topic 1",
            "method": "update"
           },
           {
            "args": [
             {
              "marker.color": [
               [
                "#B0BEC5",
                "#B0BEC5",
                "red",
                "#B0BEC5",
                "#B0BEC5",
                "#B0BEC5",
                "#B0BEC5",
                "#B0BEC5",
                "#B0BEC5",
                "#B0BEC5",
                "#B0BEC5"
               ]
              ]
             }
            ],
            "label": "Topic 2",
            "method": "update"
           },
           {
            "args": [
             {
              "marker.color": [
               [
                "#B0BEC5",
                "#B0BEC5",
                "#B0BEC5",
                "red",
                "#B0BEC5",
                "#B0BEC5",
                "#B0BEC5",
                "#B0BEC5",
                "#B0BEC5",
                "#B0BEC5",
                "#B0BEC5"
               ]
              ]
             }
            ],
            "label": "Topic 3",
            "method": "update"
           },
           {
            "args": [
             {
              "marker.color": [
               [
                "#B0BEC5",
                "#B0BEC5",
                "#B0BEC5",
                "#B0BEC5",
                "red",
                "#B0BEC5",
                "#B0BEC5",
                "#B0BEC5",
                "#B0BEC5",
                "#B0BEC5",
                "#B0BEC5"
               ]
              ]
             }
            ],
            "label": "Topic 4",
            "method": "update"
           },
           {
            "args": [
             {
              "marker.color": [
               [
                "#B0BEC5",
                "#B0BEC5",
                "#B0BEC5",
                "#B0BEC5",
                "#B0BEC5",
                "red",
                "#B0BEC5",
                "#B0BEC5",
                "#B0BEC5",
                "#B0BEC5",
                "#B0BEC5"
               ]
              ]
             }
            ],
            "label": "Topic 5",
            "method": "update"
           },
           {
            "args": [
             {
              "marker.color": [
               [
                "#B0BEC5",
                "#B0BEC5",
                "#B0BEC5",
                "#B0BEC5",
                "#B0BEC5",
                "#B0BEC5",
                "red",
                "#B0BEC5",
                "#B0BEC5",
                "#B0BEC5",
                "#B0BEC5"
               ]
              ]
             }
            ],
            "label": "Topic 6",
            "method": "update"
           },
           {
            "args": [
             {
              "marker.color": [
               [
                "#B0BEC5",
                "#B0BEC5",
                "#B0BEC5",
                "#B0BEC5",
                "#B0BEC5",
                "#B0BEC5",
                "#B0BEC5",
                "red",
                "#B0BEC5",
                "#B0BEC5",
                "#B0BEC5"
               ]
              ]
             }
            ],
            "label": "Topic 7",
            "method": "update"
           },
           {
            "args": [
             {
              "marker.color": [
               [
                "#B0BEC5",
                "#B0BEC5",
                "#B0BEC5",
                "#B0BEC5",
                "#B0BEC5",
                "#B0BEC5",
                "#B0BEC5",
                "#B0BEC5",
                "red",
                "#B0BEC5",
                "#B0BEC5"
               ]
              ]
             }
            ],
            "label": "Topic 8",
            "method": "update"
           },
           {
            "args": [
             {
              "marker.color": [
               [
                "#B0BEC5",
                "#B0BEC5",
                "#B0BEC5",
                "#B0BEC5",
                "#B0BEC5",
                "#B0BEC5",
                "#B0BEC5",
                "#B0BEC5",
                "#B0BEC5",
                "red",
                "#B0BEC5"
               ]
              ]
             }
            ],
            "label": "Topic 9",
            "method": "update"
           },
           {
            "args": [
             {
              "marker.color": [
               [
                "#B0BEC5",
                "#B0BEC5",
                "#B0BEC5",
                "#B0BEC5",
                "#B0BEC5",
                "#B0BEC5",
                "#B0BEC5",
                "#B0BEC5",
                "#B0BEC5",
                "#B0BEC5",
                "red"
               ]
              ]
             }
            ],
            "label": "Topic 10",
            "method": "update"
           }
          ]
         }
        ],
        "template": {
         "data": {
          "bar": [
           {
            "error_x": {
             "color": "rgb(36,36,36)"
            },
            "error_y": {
             "color": "rgb(36,36,36)"
            },
            "marker": {
             "line": {
              "color": "white",
              "width": 0.5
             },
             "pattern": {
              "fillmode": "overlay",
              "size": 10,
              "solidity": 0.2
             }
            },
            "type": "bar"
           }
          ],
          "barpolar": [
           {
            "marker": {
             "line": {
              "color": "white",
              "width": 0.5
             },
             "pattern": {
              "fillmode": "overlay",
              "size": 10,
              "solidity": 0.2
             }
            },
            "type": "barpolar"
           }
          ],
          "carpet": [
           {
            "aaxis": {
             "endlinecolor": "rgb(36,36,36)",
             "gridcolor": "white",
             "linecolor": "white",
             "minorgridcolor": "white",
             "startlinecolor": "rgb(36,36,36)"
            },
            "baxis": {
             "endlinecolor": "rgb(36,36,36)",
             "gridcolor": "white",
             "linecolor": "white",
             "minorgridcolor": "white",
             "startlinecolor": "rgb(36,36,36)"
            },
            "type": "carpet"
           }
          ],
          "choropleth": [
           {
            "colorbar": {
             "outlinewidth": 1,
             "tickcolor": "rgb(36,36,36)",
             "ticks": "outside"
            },
            "type": "choropleth"
           }
          ],
          "contour": [
           {
            "colorbar": {
             "outlinewidth": 1,
             "tickcolor": "rgb(36,36,36)",
             "ticks": "outside"
            },
            "colorscale": [
             [
              0,
              "#440154"
             ],
             [
              0.1111111111111111,
              "#482878"
             ],
             [
              0.2222222222222222,
              "#3e4989"
             ],
             [
              0.3333333333333333,
              "#31688e"
             ],
             [
              0.4444444444444444,
              "#26828e"
             ],
             [
              0.5555555555555556,
              "#1f9e89"
             ],
             [
              0.6666666666666666,
              "#35b779"
             ],
             [
              0.7777777777777778,
              "#6ece58"
             ],
             [
              0.8888888888888888,
              "#b5de2b"
             ],
             [
              1,
              "#fde725"
             ]
            ],
            "type": "contour"
           }
          ],
          "contourcarpet": [
           {
            "colorbar": {
             "outlinewidth": 1,
             "tickcolor": "rgb(36,36,36)",
             "ticks": "outside"
            },
            "type": "contourcarpet"
           }
          ],
          "heatmap": [
           {
            "colorbar": {
             "outlinewidth": 1,
             "tickcolor": "rgb(36,36,36)",
             "ticks": "outside"
            },
            "colorscale": [
             [
              0,
              "#440154"
             ],
             [
              0.1111111111111111,
              "#482878"
             ],
             [
              0.2222222222222222,
              "#3e4989"
             ],
             [
              0.3333333333333333,
              "#31688e"
             ],
             [
              0.4444444444444444,
              "#26828e"
             ],
             [
              0.5555555555555556,
              "#1f9e89"
             ],
             [
              0.6666666666666666,
              "#35b779"
             ],
             [
              0.7777777777777778,
              "#6ece58"
             ],
             [
              0.8888888888888888,
              "#b5de2b"
             ],
             [
              1,
              "#fde725"
             ]
            ],
            "type": "heatmap"
           }
          ],
          "heatmapgl": [
           {
            "colorbar": {
             "outlinewidth": 1,
             "tickcolor": "rgb(36,36,36)",
             "ticks": "outside"
            },
            "colorscale": [
             [
              0,
              "#440154"
             ],
             [
              0.1111111111111111,
              "#482878"
             ],
             [
              0.2222222222222222,
              "#3e4989"
             ],
             [
              0.3333333333333333,
              "#31688e"
             ],
             [
              0.4444444444444444,
              "#26828e"
             ],
             [
              0.5555555555555556,
              "#1f9e89"
             ],
             [
              0.6666666666666666,
              "#35b779"
             ],
             [
              0.7777777777777778,
              "#6ece58"
             ],
             [
              0.8888888888888888,
              "#b5de2b"
             ],
             [
              1,
              "#fde725"
             ]
            ],
            "type": "heatmapgl"
           }
          ],
          "histogram": [
           {
            "marker": {
             "line": {
              "color": "white",
              "width": 0.6
             }
            },
            "type": "histogram"
           }
          ],
          "histogram2d": [
           {
            "colorbar": {
             "outlinewidth": 1,
             "tickcolor": "rgb(36,36,36)",
             "ticks": "outside"
            },
            "colorscale": [
             [
              0,
              "#440154"
             ],
             [
              0.1111111111111111,
              "#482878"
             ],
             [
              0.2222222222222222,
              "#3e4989"
             ],
             [
              0.3333333333333333,
              "#31688e"
             ],
             [
              0.4444444444444444,
              "#26828e"
             ],
             [
              0.5555555555555556,
              "#1f9e89"
             ],
             [
              0.6666666666666666,
              "#35b779"
             ],
             [
              0.7777777777777778,
              "#6ece58"
             ],
             [
              0.8888888888888888,
              "#b5de2b"
             ],
             [
              1,
              "#fde725"
             ]
            ],
            "type": "histogram2d"
           }
          ],
          "histogram2dcontour": [
           {
            "colorbar": {
             "outlinewidth": 1,
             "tickcolor": "rgb(36,36,36)",
             "ticks": "outside"
            },
            "colorscale": [
             [
              0,
              "#440154"
             ],
             [
              0.1111111111111111,
              "#482878"
             ],
             [
              0.2222222222222222,
              "#3e4989"
             ],
             [
              0.3333333333333333,
              "#31688e"
             ],
             [
              0.4444444444444444,
              "#26828e"
             ],
             [
              0.5555555555555556,
              "#1f9e89"
             ],
             [
              0.6666666666666666,
              "#35b779"
             ],
             [
              0.7777777777777778,
              "#6ece58"
             ],
             [
              0.8888888888888888,
              "#b5de2b"
             ],
             [
              1,
              "#fde725"
             ]
            ],
            "type": "histogram2dcontour"
           }
          ],
          "mesh3d": [
           {
            "colorbar": {
             "outlinewidth": 1,
             "tickcolor": "rgb(36,36,36)",
             "ticks": "outside"
            },
            "type": "mesh3d"
           }
          ],
          "parcoords": [
           {
            "line": {
             "colorbar": {
              "outlinewidth": 1,
              "tickcolor": "rgb(36,36,36)",
              "ticks": "outside"
             }
            },
            "type": "parcoords"
           }
          ],
          "pie": [
           {
            "automargin": true,
            "type": "pie"
           }
          ],
          "scatter": [
           {
            "fillpattern": {
             "fillmode": "overlay",
             "size": 10,
             "solidity": 0.2
            },
            "type": "scatter"
           }
          ],
          "scatter3d": [
           {
            "line": {
             "colorbar": {
              "outlinewidth": 1,
              "tickcolor": "rgb(36,36,36)",
              "ticks": "outside"
             }
            },
            "marker": {
             "colorbar": {
              "outlinewidth": 1,
              "tickcolor": "rgb(36,36,36)",
              "ticks": "outside"
             }
            },
            "type": "scatter3d"
           }
          ],
          "scattercarpet": [
           {
            "marker": {
             "colorbar": {
              "outlinewidth": 1,
              "tickcolor": "rgb(36,36,36)",
              "ticks": "outside"
             }
            },
            "type": "scattercarpet"
           }
          ],
          "scattergeo": [
           {
            "marker": {
             "colorbar": {
              "outlinewidth": 1,
              "tickcolor": "rgb(36,36,36)",
              "ticks": "outside"
             }
            },
            "type": "scattergeo"
           }
          ],
          "scattergl": [
           {
            "marker": {
             "colorbar": {
              "outlinewidth": 1,
              "tickcolor": "rgb(36,36,36)",
              "ticks": "outside"
             }
            },
            "type": "scattergl"
           }
          ],
          "scattermapbox": [
           {
            "marker": {
             "colorbar": {
              "outlinewidth": 1,
              "tickcolor": "rgb(36,36,36)",
              "ticks": "outside"
             }
            },
            "type": "scattermapbox"
           }
          ],
          "scatterpolar": [
           {
            "marker": {
             "colorbar": {
              "outlinewidth": 1,
              "tickcolor": "rgb(36,36,36)",
              "ticks": "outside"
             }
            },
            "type": "scatterpolar"
           }
          ],
          "scatterpolargl": [
           {
            "marker": {
             "colorbar": {
              "outlinewidth": 1,
              "tickcolor": "rgb(36,36,36)",
              "ticks": "outside"
             }
            },
            "type": "scatterpolargl"
           }
          ],
          "scatterternary": [
           {
            "marker": {
             "colorbar": {
              "outlinewidth": 1,
              "tickcolor": "rgb(36,36,36)",
              "ticks": "outside"
             }
            },
            "type": "scatterternary"
           }
          ],
          "surface": [
           {
            "colorbar": {
             "outlinewidth": 1,
             "tickcolor": "rgb(36,36,36)",
             "ticks": "outside"
            },
            "colorscale": [
             [
              0,
              "#440154"
             ],
             [
              0.1111111111111111,
              "#482878"
             ],
             [
              0.2222222222222222,
              "#3e4989"
             ],
             [
              0.3333333333333333,
              "#31688e"
             ],
             [
              0.4444444444444444,
              "#26828e"
             ],
             [
              0.5555555555555556,
              "#1f9e89"
             ],
             [
              0.6666666666666666,
              "#35b779"
             ],
             [
              0.7777777777777778,
              "#6ece58"
             ],
             [
              0.8888888888888888,
              "#b5de2b"
             ],
             [
              1,
              "#fde725"
             ]
            ],
            "type": "surface"
           }
          ],
          "table": [
           {
            "cells": {
             "fill": {
              "color": "rgb(237,237,237)"
             },
             "line": {
              "color": "white"
             }
            },
            "header": {
             "fill": {
              "color": "rgb(217,217,217)"
             },
             "line": {
              "color": "white"
             }
            },
            "type": "table"
           }
          ]
         },
         "layout": {
          "annotationdefaults": {
           "arrowhead": 0,
           "arrowwidth": 1
          },
          "autotypenumbers": "strict",
          "coloraxis": {
           "colorbar": {
            "outlinewidth": 1,
            "tickcolor": "rgb(36,36,36)",
            "ticks": "outside"
           }
          },
          "colorscale": {
           "diverging": [
            [
             0,
             "rgb(103,0,31)"
            ],
            [
             0.1,
             "rgb(178,24,43)"
            ],
            [
             0.2,
             "rgb(214,96,77)"
            ],
            [
             0.3,
             "rgb(244,165,130)"
            ],
            [
             0.4,
             "rgb(253,219,199)"
            ],
            [
             0.5,
             "rgb(247,247,247)"
            ],
            [
             0.6,
             "rgb(209,229,240)"
            ],
            [
             0.7,
             "rgb(146,197,222)"
            ],
            [
             0.8,
             "rgb(67,147,195)"
            ],
            [
             0.9,
             "rgb(33,102,172)"
            ],
            [
             1,
             "rgb(5,48,97)"
            ]
           ],
           "sequential": [
            [
             0,
             "#440154"
            ],
            [
             0.1111111111111111,
             "#482878"
            ],
            [
             0.2222222222222222,
             "#3e4989"
            ],
            [
             0.3333333333333333,
             "#31688e"
            ],
            [
             0.4444444444444444,
             "#26828e"
            ],
            [
             0.5555555555555556,
             "#1f9e89"
            ],
            [
             0.6666666666666666,
             "#35b779"
            ],
            [
             0.7777777777777778,
             "#6ece58"
            ],
            [
             0.8888888888888888,
             "#b5de2b"
            ],
            [
             1,
             "#fde725"
            ]
           ],
           "sequentialminus": [
            [
             0,
             "#440154"
            ],
            [
             0.1111111111111111,
             "#482878"
            ],
            [
             0.2222222222222222,
             "#3e4989"
            ],
            [
             0.3333333333333333,
             "#31688e"
            ],
            [
             0.4444444444444444,
             "#26828e"
            ],
            [
             0.5555555555555556,
             "#1f9e89"
            ],
            [
             0.6666666666666666,
             "#35b779"
            ],
            [
             0.7777777777777778,
             "#6ece58"
            ],
            [
             0.8888888888888888,
             "#b5de2b"
            ],
            [
             1,
             "#fde725"
            ]
           ]
          },
          "colorway": [
           "#1F77B4",
           "#FF7F0E",
           "#2CA02C",
           "#D62728",
           "#9467BD",
           "#8C564B",
           "#E377C2",
           "#7F7F7F",
           "#BCBD22",
           "#17BECF"
          ],
          "font": {
           "color": "rgb(36,36,36)"
          },
          "geo": {
           "bgcolor": "white",
           "lakecolor": "white",
           "landcolor": "white",
           "showlakes": true,
           "showland": true,
           "subunitcolor": "white"
          },
          "hoverlabel": {
           "align": "left"
          },
          "hovermode": "closest",
          "mapbox": {
           "style": "light"
          },
          "paper_bgcolor": "white",
          "plot_bgcolor": "white",
          "polar": {
           "angularaxis": {
            "gridcolor": "rgb(232,232,232)",
            "linecolor": "rgb(36,36,36)",
            "showgrid": false,
            "showline": true,
            "ticks": "outside"
           },
           "bgcolor": "white",
           "radialaxis": {
            "gridcolor": "rgb(232,232,232)",
            "linecolor": "rgb(36,36,36)",
            "showgrid": false,
            "showline": true,
            "ticks": "outside"
           }
          },
          "scene": {
           "xaxis": {
            "backgroundcolor": "white",
            "gridcolor": "rgb(232,232,232)",
            "gridwidth": 2,
            "linecolor": "rgb(36,36,36)",
            "showbackground": true,
            "showgrid": false,
            "showline": true,
            "ticks": "outside",
            "zeroline": false,
            "zerolinecolor": "rgb(36,36,36)"
           },
           "yaxis": {
            "backgroundcolor": "white",
            "gridcolor": "rgb(232,232,232)",
            "gridwidth": 2,
            "linecolor": "rgb(36,36,36)",
            "showbackground": true,
            "showgrid": false,
            "showline": true,
            "ticks": "outside",
            "zeroline": false,
            "zerolinecolor": "rgb(36,36,36)"
           },
           "zaxis": {
            "backgroundcolor": "white",
            "gridcolor": "rgb(232,232,232)",
            "gridwidth": 2,
            "linecolor": "rgb(36,36,36)",
            "showbackground": true,
            "showgrid": false,
            "showline": true,
            "ticks": "outside",
            "zeroline": false,
            "zerolinecolor": "rgb(36,36,36)"
           }
          },
          "shapedefaults": {
           "fillcolor": "black",
           "line": {
            "width": 0
           },
           "opacity": 0.3
          },
          "ternary": {
           "aaxis": {
            "gridcolor": "rgb(232,232,232)",
            "linecolor": "rgb(36,36,36)",
            "showgrid": false,
            "showline": true,
            "ticks": "outside"
           },
           "baxis": {
            "gridcolor": "rgb(232,232,232)",
            "linecolor": "rgb(36,36,36)",
            "showgrid": false,
            "showline": true,
            "ticks": "outside"
           },
           "bgcolor": "white",
           "caxis": {
            "gridcolor": "rgb(232,232,232)",
            "linecolor": "rgb(36,36,36)",
            "showgrid": false,
            "showline": true,
            "ticks": "outside"
           }
          },
          "title": {
           "x": 0.05
          },
          "xaxis": {
           "automargin": true,
           "gridcolor": "rgb(232,232,232)",
           "linecolor": "rgb(36,36,36)",
           "showgrid": false,
           "showline": true,
           "ticks": "outside",
           "title": {
            "standoff": 15
           },
           "zeroline": false,
           "zerolinecolor": "rgb(36,36,36)"
          },
          "yaxis": {
           "automargin": true,
           "gridcolor": "rgb(232,232,232)",
           "linecolor": "rgb(36,36,36)",
           "showgrid": false,
           "showline": true,
           "ticks": "outside",
           "title": {
            "standoff": 15
           },
           "zeroline": false,
           "zerolinecolor": "rgb(36,36,36)"
          }
         }
        },
        "title": {
         "font": {
          "color": "Black",
          "size": 22
         },
         "text": "<b>Intertopic Distance Map</b>",
         "x": 0.5,
         "xanchor": "center",
         "y": 0.95,
         "yanchor": "top"
        },
        "width": 650,
        "xaxis": {
         "anchor": "y",
         "domain": [
          0,
          1
         ],
         "range": [
          -22.14789037704468,
          12.945830726623536
         ],
         "title": {
          "text": ""
         },
         "visible": false
        },
        "yaxis": {
         "anchor": "x",
         "domain": [
          0,
          1
         ],
         "range": [
          0.8676786780357361,
          15.23100299835205
         ],
         "title": {
          "text": ""
         },
         "visible": false
        }
       }
      },
      "text/html": [
       "<div>                            <div id=\"c936a48a-7e16-482d-aefd-6d21492429f5\" class=\"plotly-graph-div\" style=\"height:650px; width:650px;\"></div>            <script type=\"text/javascript\">                require([\"plotly\"], function(Plotly) {                    window.PLOTLYENV=window.PLOTLYENV || {};                                    if (document.getElementById(\"c936a48a-7e16-482d-aefd-6d21492429f5\")) {                    Plotly.newPlot(                        \"c936a48a-7e16-482d-aefd-6d21492429f5\",                        [{\"customdata\":[[0,\"paper | model | method | work | result\",97954],[1,\"withdrawal | coauthors | behalf | confirmation | venue\",745],[2,\"withdrawal | coauthors | behalf | confirmation | read\",37],[3,\"withdrawal | coauthors | behalf | confirmation | read\",35],[4,\"withdrawal | coauthors | behalf | confirmation | read\",32],[5,\"withdrawal | coauthors | behalf | confirmation | read\",31],[6,\"openreview | suggestionscomments | concernsquestions | ughp | 3905\",21],[7,\"amortization | policy | gap | iterative | direct\",15],[8,\"withdrawal | coauthors | behalf | confirmation | venue\",14],[9,\"vumz | 3905 | suggestionscomments | concernsquestions | openreview\",13],[10,\"dyev | 3905 | suggestionscomments | concernsquestions | openreview\",11]],\"hovertemplate\":\"<b>Topic %{customdata[0]}</b><br>%{customdata[1]}<br>Size: %{customdata[2]}\",\"legendgroup\":\"\",\"marker\":{\"color\":\"#B0BEC5\",\"size\":[97954,745,37,35,32,31,21,15,14,13,11],\"sizemode\":\"area\",\"sizeref\":61.22125,\"symbol\":\"circle\",\"line\":{\"color\":\"DarkSlateGrey\",\"width\":2}},\"mode\":\"markers\",\"name\":\"\",\"orientation\":\"v\",\"showlegend\":false,\"x\":[0.7788678407669067,-9.305368423461914,-18.90473175048828,-18.49178695678711,-19.259035110473633,-18.913284301757812,11.03443717956543,1.0218418836593628,-9.040385246276855,10.782234191894531,11.257244110107422],\"xaxis\":\"x\",\"y\":[7.630955219268799,10.50229549407959,1.802319049835205,1.5895750522613525,1.5669933557510376,1.0207984447479248,13.021384239196777,7.873990535736084,10.23748779296875,12.769363403320312,13.24435043334961],\"yaxis\":\"y\",\"type\":\"scatter\"}],                        {\"template\":{\"data\":{\"barpolar\":[{\"marker\":{\"line\":{\"color\":\"white\",\"width\":0.5},\"pattern\":{\"fillmode\":\"overlay\",\"size\":10,\"solidity\":0.2}},\"type\":\"barpolar\"}],\"bar\":[{\"error_x\":{\"color\":\"rgb(36,36,36)\"},\"error_y\":{\"color\":\"rgb(36,36,36)\"},\"marker\":{\"line\":{\"color\":\"white\",\"width\":0.5},\"pattern\":{\"fillmode\":\"overlay\",\"size\":10,\"solidity\":0.2}},\"type\":\"bar\"}],\"carpet\":[{\"aaxis\":{\"endlinecolor\":\"rgb(36,36,36)\",\"gridcolor\":\"white\",\"linecolor\":\"white\",\"minorgridcolor\":\"white\",\"startlinecolor\":\"rgb(36,36,36)\"},\"baxis\":{\"endlinecolor\":\"rgb(36,36,36)\",\"gridcolor\":\"white\",\"linecolor\":\"white\",\"minorgridcolor\":\"white\",\"startlinecolor\":\"rgb(36,36,36)\"},\"type\":\"carpet\"}],\"choropleth\":[{\"colorbar\":{\"outlinewidth\":1,\"tickcolor\":\"rgb(36,36,36)\",\"ticks\":\"outside\"},\"type\":\"choropleth\"}],\"contourcarpet\":[{\"colorbar\":{\"outlinewidth\":1,\"tickcolor\":\"rgb(36,36,36)\",\"ticks\":\"outside\"},\"type\":\"contourcarpet\"}],\"contour\":[{\"colorbar\":{\"outlinewidth\":1,\"tickcolor\":\"rgb(36,36,36)\",\"ticks\":\"outside\"},\"colorscale\":[[0.0,\"#440154\"],[0.1111111111111111,\"#482878\"],[0.2222222222222222,\"#3e4989\"],[0.3333333333333333,\"#31688e\"],[0.4444444444444444,\"#26828e\"],[0.5555555555555556,\"#1f9e89\"],[0.6666666666666666,\"#35b779\"],[0.7777777777777778,\"#6ece58\"],[0.8888888888888888,\"#b5de2b\"],[1.0,\"#fde725\"]],\"type\":\"contour\"}],\"heatmapgl\":[{\"colorbar\":{\"outlinewidth\":1,\"tickcolor\":\"rgb(36,36,36)\",\"ticks\":\"outside\"},\"colorscale\":[[0.0,\"#440154\"],[0.1111111111111111,\"#482878\"],[0.2222222222222222,\"#3e4989\"],[0.3333333333333333,\"#31688e\"],[0.4444444444444444,\"#26828e\"],[0.5555555555555556,\"#1f9e89\"],[0.6666666666666666,\"#35b779\"],[0.7777777777777778,\"#6ece58\"],[0.8888888888888888,\"#b5de2b\"],[1.0,\"#fde725\"]],\"type\":\"heatmapgl\"}],\"heatmap\":[{\"colorbar\":{\"outlinewidth\":1,\"tickcolor\":\"rgb(36,36,36)\",\"ticks\":\"outside\"},\"colorscale\":[[0.0,\"#440154\"],[0.1111111111111111,\"#482878\"],[0.2222222222222222,\"#3e4989\"],[0.3333333333333333,\"#31688e\"],[0.4444444444444444,\"#26828e\"],[0.5555555555555556,\"#1f9e89\"],[0.6666666666666666,\"#35b779\"],[0.7777777777777778,\"#6ece58\"],[0.8888888888888888,\"#b5de2b\"],[1.0,\"#fde725\"]],\"type\":\"heatmap\"}],\"histogram2dcontour\":[{\"colorbar\":{\"outlinewidth\":1,\"tickcolor\":\"rgb(36,36,36)\",\"ticks\":\"outside\"},\"colorscale\":[[0.0,\"#440154\"],[0.1111111111111111,\"#482878\"],[0.2222222222222222,\"#3e4989\"],[0.3333333333333333,\"#31688e\"],[0.4444444444444444,\"#26828e\"],[0.5555555555555556,\"#1f9e89\"],[0.6666666666666666,\"#35b779\"],[0.7777777777777778,\"#6ece58\"],[0.8888888888888888,\"#b5de2b\"],[1.0,\"#fde725\"]],\"type\":\"histogram2dcontour\"}],\"histogram2d\":[{\"colorbar\":{\"outlinewidth\":1,\"tickcolor\":\"rgb(36,36,36)\",\"ticks\":\"outside\"},\"colorscale\":[[0.0,\"#440154\"],[0.1111111111111111,\"#482878\"],[0.2222222222222222,\"#3e4989\"],[0.3333333333333333,\"#31688e\"],[0.4444444444444444,\"#26828e\"],[0.5555555555555556,\"#1f9e89\"],[0.6666666666666666,\"#35b779\"],[0.7777777777777778,\"#6ece58\"],[0.8888888888888888,\"#b5de2b\"],[1.0,\"#fde725\"]],\"type\":\"histogram2d\"}],\"histogram\":[{\"marker\":{\"line\":{\"color\":\"white\",\"width\":0.6}},\"type\":\"histogram\"}],\"mesh3d\":[{\"colorbar\":{\"outlinewidth\":1,\"tickcolor\":\"rgb(36,36,36)\",\"ticks\":\"outside\"},\"type\":\"mesh3d\"}],\"parcoords\":[{\"line\":{\"colorbar\":{\"outlinewidth\":1,\"tickcolor\":\"rgb(36,36,36)\",\"ticks\":\"outside\"}},\"type\":\"parcoords\"}],\"pie\":[{\"automargin\":true,\"type\":\"pie\"}],\"scatter3d\":[{\"line\":{\"colorbar\":{\"outlinewidth\":1,\"tickcolor\":\"rgb(36,36,36)\",\"ticks\":\"outside\"}},\"marker\":{\"colorbar\":{\"outlinewidth\":1,\"tickcolor\":\"rgb(36,36,36)\",\"ticks\":\"outside\"}},\"type\":\"scatter3d\"}],\"scattercarpet\":[{\"marker\":{\"colorbar\":{\"outlinewidth\":1,\"tickcolor\":\"rgb(36,36,36)\",\"ticks\":\"outside\"}},\"type\":\"scattercarpet\"}],\"scattergeo\":[{\"marker\":{\"colorbar\":{\"outlinewidth\":1,\"tickcolor\":\"rgb(36,36,36)\",\"ticks\":\"outside\"}},\"type\":\"scattergeo\"}],\"scattergl\":[{\"marker\":{\"colorbar\":{\"outlinewidth\":1,\"tickcolor\":\"rgb(36,36,36)\",\"ticks\":\"outside\"}},\"type\":\"scattergl\"}],\"scattermapbox\":[{\"marker\":{\"colorbar\":{\"outlinewidth\":1,\"tickcolor\":\"rgb(36,36,36)\",\"ticks\":\"outside\"}},\"type\":\"scattermapbox\"}],\"scatterpolargl\":[{\"marker\":{\"colorbar\":{\"outlinewidth\":1,\"tickcolor\":\"rgb(36,36,36)\",\"ticks\":\"outside\"}},\"type\":\"scatterpolargl\"}],\"scatterpolar\":[{\"marker\":{\"colorbar\":{\"outlinewidth\":1,\"tickcolor\":\"rgb(36,36,36)\",\"ticks\":\"outside\"}},\"type\":\"scatterpolar\"}],\"scatter\":[{\"fillpattern\":{\"fillmode\":\"overlay\",\"size\":10,\"solidity\":0.2},\"type\":\"scatter\"}],\"scatterternary\":[{\"marker\":{\"colorbar\":{\"outlinewidth\":1,\"tickcolor\":\"rgb(36,36,36)\",\"ticks\":\"outside\"}},\"type\":\"scatterternary\"}],\"surface\":[{\"colorbar\":{\"outlinewidth\":1,\"tickcolor\":\"rgb(36,36,36)\",\"ticks\":\"outside\"},\"colorscale\":[[0.0,\"#440154\"],[0.1111111111111111,\"#482878\"],[0.2222222222222222,\"#3e4989\"],[0.3333333333333333,\"#31688e\"],[0.4444444444444444,\"#26828e\"],[0.5555555555555556,\"#1f9e89\"],[0.6666666666666666,\"#35b779\"],[0.7777777777777778,\"#6ece58\"],[0.8888888888888888,\"#b5de2b\"],[1.0,\"#fde725\"]],\"type\":\"surface\"}],\"table\":[{\"cells\":{\"fill\":{\"color\":\"rgb(237,237,237)\"},\"line\":{\"color\":\"white\"}},\"header\":{\"fill\":{\"color\":\"rgb(217,217,217)\"},\"line\":{\"color\":\"white\"}},\"type\":\"table\"}]},\"layout\":{\"annotationdefaults\":{\"arrowhead\":0,\"arrowwidth\":1},\"autotypenumbers\":\"strict\",\"coloraxis\":{\"colorbar\":{\"outlinewidth\":1,\"tickcolor\":\"rgb(36,36,36)\",\"ticks\":\"outside\"}},\"colorscale\":{\"diverging\":[[0.0,\"rgb(103,0,31)\"],[0.1,\"rgb(178,24,43)\"],[0.2,\"rgb(214,96,77)\"],[0.3,\"rgb(244,165,130)\"],[0.4,\"rgb(253,219,199)\"],[0.5,\"rgb(247,247,247)\"],[0.6,\"rgb(209,229,240)\"],[0.7,\"rgb(146,197,222)\"],[0.8,\"rgb(67,147,195)\"],[0.9,\"rgb(33,102,172)\"],[1.0,\"rgb(5,48,97)\"]],\"sequential\":[[0.0,\"#440154\"],[0.1111111111111111,\"#482878\"],[0.2222222222222222,\"#3e4989\"],[0.3333333333333333,\"#31688e\"],[0.4444444444444444,\"#26828e\"],[0.5555555555555556,\"#1f9e89\"],[0.6666666666666666,\"#35b779\"],[0.7777777777777778,\"#6ece58\"],[0.8888888888888888,\"#b5de2b\"],[1.0,\"#fde725\"]],\"sequentialminus\":[[0.0,\"#440154\"],[0.1111111111111111,\"#482878\"],[0.2222222222222222,\"#3e4989\"],[0.3333333333333333,\"#31688e\"],[0.4444444444444444,\"#26828e\"],[0.5555555555555556,\"#1f9e89\"],[0.6666666666666666,\"#35b779\"],[0.7777777777777778,\"#6ece58\"],[0.8888888888888888,\"#b5de2b\"],[1.0,\"#fde725\"]]},\"colorway\":[\"#1F77B4\",\"#FF7F0E\",\"#2CA02C\",\"#D62728\",\"#9467BD\",\"#8C564B\",\"#E377C2\",\"#7F7F7F\",\"#BCBD22\",\"#17BECF\"],\"font\":{\"color\":\"rgb(36,36,36)\"},\"geo\":{\"bgcolor\":\"white\",\"lakecolor\":\"white\",\"landcolor\":\"white\",\"showlakes\":true,\"showland\":true,\"subunitcolor\":\"white\"},\"hoverlabel\":{\"align\":\"left\"},\"hovermode\":\"closest\",\"mapbox\":{\"style\":\"light\"},\"paper_bgcolor\":\"white\",\"plot_bgcolor\":\"white\",\"polar\":{\"angularaxis\":{\"gridcolor\":\"rgb(232,232,232)\",\"linecolor\":\"rgb(36,36,36)\",\"showgrid\":false,\"showline\":true,\"ticks\":\"outside\"},\"bgcolor\":\"white\",\"radialaxis\":{\"gridcolor\":\"rgb(232,232,232)\",\"linecolor\":\"rgb(36,36,36)\",\"showgrid\":false,\"showline\":true,\"ticks\":\"outside\"}},\"scene\":{\"xaxis\":{\"backgroundcolor\":\"white\",\"gridcolor\":\"rgb(232,232,232)\",\"gridwidth\":2,\"linecolor\":\"rgb(36,36,36)\",\"showbackground\":true,\"showgrid\":false,\"showline\":true,\"ticks\":\"outside\",\"zeroline\":false,\"zerolinecolor\":\"rgb(36,36,36)\"},\"yaxis\":{\"backgroundcolor\":\"white\",\"gridcolor\":\"rgb(232,232,232)\",\"gridwidth\":2,\"linecolor\":\"rgb(36,36,36)\",\"showbackground\":true,\"showgrid\":false,\"showline\":true,\"ticks\":\"outside\",\"zeroline\":false,\"zerolinecolor\":\"rgb(36,36,36)\"},\"zaxis\":{\"backgroundcolor\":\"white\",\"gridcolor\":\"rgb(232,232,232)\",\"gridwidth\":2,\"linecolor\":\"rgb(36,36,36)\",\"showbackground\":true,\"showgrid\":false,\"showline\":true,\"ticks\":\"outside\",\"zeroline\":false,\"zerolinecolor\":\"rgb(36,36,36)\"}},\"shapedefaults\":{\"fillcolor\":\"black\",\"line\":{\"width\":0},\"opacity\":0.3},\"ternary\":{\"aaxis\":{\"gridcolor\":\"rgb(232,232,232)\",\"linecolor\":\"rgb(36,36,36)\",\"showgrid\":false,\"showline\":true,\"ticks\":\"outside\"},\"baxis\":{\"gridcolor\":\"rgb(232,232,232)\",\"linecolor\":\"rgb(36,36,36)\",\"showgrid\":false,\"showline\":true,\"ticks\":\"outside\"},\"bgcolor\":\"white\",\"caxis\":{\"gridcolor\":\"rgb(232,232,232)\",\"linecolor\":\"rgb(36,36,36)\",\"showgrid\":false,\"showline\":true,\"ticks\":\"outside\"}},\"title\":{\"x\":0.05},\"xaxis\":{\"automargin\":true,\"gridcolor\":\"rgb(232,232,232)\",\"linecolor\":\"rgb(36,36,36)\",\"showgrid\":false,\"showline\":true,\"ticks\":\"outside\",\"title\":{\"standoff\":15},\"zeroline\":false,\"zerolinecolor\":\"rgb(36,36,36)\"},\"yaxis\":{\"automargin\":true,\"gridcolor\":\"rgb(232,232,232)\",\"linecolor\":\"rgb(36,36,36)\",\"showgrid\":false,\"showline\":true,\"ticks\":\"outside\",\"title\":{\"standoff\":15},\"zeroline\":false,\"zerolinecolor\":\"rgb(36,36,36)\"}}},\"xaxis\":{\"anchor\":\"y\",\"domain\":[0.0,1.0],\"title\":{\"text\":\"\"},\"visible\":false,\"range\":[-22.14789037704468,12.945830726623536]},\"yaxis\":{\"anchor\":\"x\",\"domain\":[0.0,1.0],\"title\":{\"text\":\"\"},\"visible\":false,\"range\":[0.8676786780357361,15.23100299835205]},\"legend\":{\"tracegroupgap\":0,\"itemsizing\":\"constant\"},\"margin\":{\"t\":60},\"title\":{\"font\":{\"size\":22,\"color\":\"Black\"},\"text\":\"<b>Intertopic Distance Map</b>\",\"y\":0.95,\"x\":0.5,\"xanchor\":\"center\",\"yanchor\":\"top\"},\"hoverlabel\":{\"font\":{\"size\":16,\"family\":\"Rockwell\"},\"bgcolor\":\"white\"},\"width\":650,\"height\":650,\"sliders\":[{\"active\":0,\"pad\":{\"t\":50},\"steps\":[{\"args\":[{\"marker.color\":[[\"red\",\"#B0BEC5\",\"#B0BEC5\",\"#B0BEC5\",\"#B0BEC5\",\"#B0BEC5\",\"#B0BEC5\",\"#B0BEC5\",\"#B0BEC5\",\"#B0BEC5\",\"#B0BEC5\"]]}],\"label\":\"Topic 0\",\"method\":\"update\"},{\"args\":[{\"marker.color\":[[\"#B0BEC5\",\"red\",\"#B0BEC5\",\"#B0BEC5\",\"#B0BEC5\",\"#B0BEC5\",\"#B0BEC5\",\"#B0BEC5\",\"#B0BEC5\",\"#B0BEC5\",\"#B0BEC5\"]]}],\"label\":\"Topic 1\",\"method\":\"update\"},{\"args\":[{\"marker.color\":[[\"#B0BEC5\",\"#B0BEC5\",\"red\",\"#B0BEC5\",\"#B0BEC5\",\"#B0BEC5\",\"#B0BEC5\",\"#B0BEC5\",\"#B0BEC5\",\"#B0BEC5\",\"#B0BEC5\"]]}],\"label\":\"Topic 2\",\"method\":\"update\"},{\"args\":[{\"marker.color\":[[\"#B0BEC5\",\"#B0BEC5\",\"#B0BEC5\",\"red\",\"#B0BEC5\",\"#B0BEC5\",\"#B0BEC5\",\"#B0BEC5\",\"#B0BEC5\",\"#B0BEC5\",\"#B0BEC5\"]]}],\"label\":\"Topic 3\",\"method\":\"update\"},{\"args\":[{\"marker.color\":[[\"#B0BEC5\",\"#B0BEC5\",\"#B0BEC5\",\"#B0BEC5\",\"red\",\"#B0BEC5\",\"#B0BEC5\",\"#B0BEC5\",\"#B0BEC5\",\"#B0BEC5\",\"#B0BEC5\"]]}],\"label\":\"Topic 4\",\"method\":\"update\"},{\"args\":[{\"marker.color\":[[\"#B0BEC5\",\"#B0BEC5\",\"#B0BEC5\",\"#B0BEC5\",\"#B0BEC5\",\"red\",\"#B0BEC5\",\"#B0BEC5\",\"#B0BEC5\",\"#B0BEC5\",\"#B0BEC5\"]]}],\"label\":\"Topic 5\",\"method\":\"update\"},{\"args\":[{\"marker.color\":[[\"#B0BEC5\",\"#B0BEC5\",\"#B0BEC5\",\"#B0BEC5\",\"#B0BEC5\",\"#B0BEC5\",\"red\",\"#B0BEC5\",\"#B0BEC5\",\"#B0BEC5\",\"#B0BEC5\"]]}],\"label\":\"Topic 6\",\"method\":\"update\"},{\"args\":[{\"marker.color\":[[\"#B0BEC5\",\"#B0BEC5\",\"#B0BEC5\",\"#B0BEC5\",\"#B0BEC5\",\"#B0BEC5\",\"#B0BEC5\",\"red\",\"#B0BEC5\",\"#B0BEC5\",\"#B0BEC5\"]]}],\"label\":\"Topic 7\",\"method\":\"update\"},{\"args\":[{\"marker.color\":[[\"#B0BEC5\",\"#B0BEC5\",\"#B0BEC5\",\"#B0BEC5\",\"#B0BEC5\",\"#B0BEC5\",\"#B0BEC5\",\"#B0BEC5\",\"red\",\"#B0BEC5\",\"#B0BEC5\"]]}],\"label\":\"Topic 8\",\"method\":\"update\"},{\"args\":[{\"marker.color\":[[\"#B0BEC5\",\"#B0BEC5\",\"#B0BEC5\",\"#B0BEC5\",\"#B0BEC5\",\"#B0BEC5\",\"#B0BEC5\",\"#B0BEC5\",\"#B0BEC5\",\"red\",\"#B0BEC5\"]]}],\"label\":\"Topic 9\",\"method\":\"update\"},{\"args\":[{\"marker.color\":[[\"#B0BEC5\",\"#B0BEC5\",\"#B0BEC5\",\"#B0BEC5\",\"#B0BEC5\",\"#B0BEC5\",\"#B0BEC5\",\"#B0BEC5\",\"#B0BEC5\",\"#B0BEC5\",\"red\"]]}],\"label\":\"Topic 10\",\"method\":\"update\"}]}],\"shapes\":[{\"line\":{\"color\":\"#CFD8DC\",\"width\":2},\"type\":\"line\",\"x0\":-4.6010298252105715,\"x1\":-4.6010298252105715,\"y0\":0.8676786780357361,\"y1\":15.23100299835205},{\"line\":{\"color\":\"#9E9E9E\",\"width\":2},\"type\":\"line\",\"x0\":-22.14789037704468,\"x1\":12.945830726623536,\"y0\":8.049340838193894,\"y1\":8.049340838193894}],\"annotations\":[{\"showarrow\":false,\"text\":\"D1\",\"x\":-22.14789037704468,\"y\":8.049340838193894,\"yshift\":10},{\"showarrow\":false,\"text\":\"D2\",\"x\":-4.6010298252105715,\"xshift\":10,\"y\":15.23100299835205}]},                        {\"responsive\": true}                    ).then(function(){\n",
       "                            \n",
       "var gd = document.getElementById('c936a48a-7e16-482d-aefd-6d21492429f5');\n",
       "var x = new MutationObserver(function (mutations, observer) {{\n",
       "        var display = window.getComputedStyle(gd).display;\n",
       "        if (!display || display === 'none') {{\n",
       "            console.log([gd, 'removed!']);\n",
       "            Plotly.purge(gd);\n",
       "            observer.disconnect();\n",
       "        }}\n",
       "}});\n",
       "\n",
       "// Listen for the removal of the full notebook cells\n",
       "var notebookContainer = gd.closest('#notebook-container');\n",
       "if (notebookContainer) {{\n",
       "    x.observe(notebookContainer, {childList: true});\n",
       "}}\n",
       "\n",
       "// Listen for the clearing of the current output cell\n",
       "var outputEl = gd.closest('.output');\n",
       "if (outputEl) {{\n",
       "    x.observe(outputEl, {childList: true});\n",
       "}}\n",
       "\n",
       "                        })                };                });            </script>        </div>"
      ]
     },
     "metadata": {},
     "output_type": "display_data"
    }
   ],
   "source": [
    "abstract_lda_model."
   ]
  },
  {
   "cell_type": "markdown",
   "metadata": {},
   "source": [
    "TOPIC AGGREGATION"
   ]
  },
  {
   "cell_type": "code",
   "execution_count": 35,
   "metadata": {},
   "outputs": [
    {
     "data": {
      "text/html": [
       "<div>\n",
       "<style scoped>\n",
       "    .dataframe tbody tr th:only-of-type {\n",
       "        vertical-align: middle;\n",
       "    }\n",
       "\n",
       "    .dataframe tbody tr th {\n",
       "        vertical-align: top;\n",
       "    }\n",
       "\n",
       "    .dataframe thead th {\n",
       "        text-align: right;\n",
       "    }\n",
       "</style>\n",
       "<table border=\"1\" class=\"dataframe\">\n",
       "  <thead>\n",
       "    <tr style=\"text-align: right;\">\n",
       "      <th></th>\n",
       "      <th>abstract_bertopic_topic_0</th>\n",
       "      <th>abstract_bertopic_topic_1</th>\n",
       "      <th>abstract_bertopic_topic_2</th>\n",
       "      <th>abstract_bertopic_topic_3</th>\n",
       "      <th>abstract_bertopic_topic_4</th>\n",
       "      <th>abstract_bertopic_topic_5</th>\n",
       "      <th>abstract_bertopic_topic_6</th>\n",
       "      <th>abstract_bertopic_topic_7</th>\n",
       "      <th>abstract_bertopic_topic_8</th>\n",
       "      <th>abstract_bertopic_topic_9</th>\n",
       "      <th>abstract_bertopic_topic_10</th>\n",
       "      <th>abstract_bertopic_topic_11</th>\n",
       "    </tr>\n",
       "  </thead>\n",
       "  <tbody>\n",
       "    <tr>\n",
       "      <th>0</th>\n",
       "      <td>0.071108</td>\n",
       "      <td>0.318762</td>\n",
       "      <td>0.056557</td>\n",
       "      <td>0.000000</td>\n",
       "      <td>0.063262</td>\n",
       "      <td>0.000000</td>\n",
       "      <td>0.383023</td>\n",
       "      <td>0.017472</td>\n",
       "      <td>0.053807</td>\n",
       "      <td>0.000000</td>\n",
       "      <td>0.036009</td>\n",
       "      <td>0.000000</td>\n",
       "    </tr>\n",
       "    <tr>\n",
       "      <th>1</th>\n",
       "      <td>0.071108</td>\n",
       "      <td>0.318762</td>\n",
       "      <td>0.056557</td>\n",
       "      <td>0.000000</td>\n",
       "      <td>0.063262</td>\n",
       "      <td>0.000000</td>\n",
       "      <td>0.383023</td>\n",
       "      <td>0.017472</td>\n",
       "      <td>0.053807</td>\n",
       "      <td>0.000000</td>\n",
       "      <td>0.036009</td>\n",
       "      <td>0.000000</td>\n",
       "    </tr>\n",
       "    <tr>\n",
       "      <th>2</th>\n",
       "      <td>0.071108</td>\n",
       "      <td>0.318762</td>\n",
       "      <td>0.056557</td>\n",
       "      <td>0.000000</td>\n",
       "      <td>0.063262</td>\n",
       "      <td>0.000000</td>\n",
       "      <td>0.383023</td>\n",
       "      <td>0.017472</td>\n",
       "      <td>0.053807</td>\n",
       "      <td>0.000000</td>\n",
       "      <td>0.036009</td>\n",
       "      <td>0.000000</td>\n",
       "    </tr>\n",
       "    <tr>\n",
       "      <th>3</th>\n",
       "      <td>0.071108</td>\n",
       "      <td>0.318762</td>\n",
       "      <td>0.056557</td>\n",
       "      <td>0.000000</td>\n",
       "      <td>0.063262</td>\n",
       "      <td>0.000000</td>\n",
       "      <td>0.383023</td>\n",
       "      <td>0.017472</td>\n",
       "      <td>0.053807</td>\n",
       "      <td>0.000000</td>\n",
       "      <td>0.036009</td>\n",
       "      <td>0.000000</td>\n",
       "    </tr>\n",
       "    <tr>\n",
       "      <th>4</th>\n",
       "      <td>0.071108</td>\n",
       "      <td>0.318762</td>\n",
       "      <td>0.056557</td>\n",
       "      <td>0.000000</td>\n",
       "      <td>0.063262</td>\n",
       "      <td>0.000000</td>\n",
       "      <td>0.383023</td>\n",
       "      <td>0.017472</td>\n",
       "      <td>0.053807</td>\n",
       "      <td>0.000000</td>\n",
       "      <td>0.036009</td>\n",
       "      <td>0.000000</td>\n",
       "    </tr>\n",
       "    <tr>\n",
       "      <th>...</th>\n",
       "      <td>...</td>\n",
       "      <td>...</td>\n",
       "      <td>...</td>\n",
       "      <td>...</td>\n",
       "      <td>...</td>\n",
       "      <td>...</td>\n",
       "      <td>...</td>\n",
       "      <td>...</td>\n",
       "      <td>...</td>\n",
       "      <td>...</td>\n",
       "      <td>...</td>\n",
       "      <td>...</td>\n",
       "    </tr>\n",
       "    <tr>\n",
       "      <th>98983</th>\n",
       "      <td>0.086730</td>\n",
       "      <td>0.000000</td>\n",
       "      <td>0.074623</td>\n",
       "      <td>0.149357</td>\n",
       "      <td>0.154452</td>\n",
       "      <td>0.182688</td>\n",
       "      <td>0.000000</td>\n",
       "      <td>0.000000</td>\n",
       "      <td>0.000000</td>\n",
       "      <td>0.196957</td>\n",
       "      <td>0.000000</td>\n",
       "      <td>0.155193</td>\n",
       "    </tr>\n",
       "    <tr>\n",
       "      <th>98984</th>\n",
       "      <td>0.086730</td>\n",
       "      <td>0.000000</td>\n",
       "      <td>0.074623</td>\n",
       "      <td>0.149357</td>\n",
       "      <td>0.154452</td>\n",
       "      <td>0.182688</td>\n",
       "      <td>0.000000</td>\n",
       "      <td>0.000000</td>\n",
       "      <td>0.000000</td>\n",
       "      <td>0.196957</td>\n",
       "      <td>0.000000</td>\n",
       "      <td>0.155193</td>\n",
       "    </tr>\n",
       "    <tr>\n",
       "      <th>98985</th>\n",
       "      <td>0.086730</td>\n",
       "      <td>0.000000</td>\n",
       "      <td>0.074623</td>\n",
       "      <td>0.149357</td>\n",
       "      <td>0.154452</td>\n",
       "      <td>0.182688</td>\n",
       "      <td>0.000000</td>\n",
       "      <td>0.000000</td>\n",
       "      <td>0.000000</td>\n",
       "      <td>0.196957</td>\n",
       "      <td>0.000000</td>\n",
       "      <td>0.155193</td>\n",
       "    </tr>\n",
       "    <tr>\n",
       "      <th>98986</th>\n",
       "      <td>0.086730</td>\n",
       "      <td>0.000000</td>\n",
       "      <td>0.074623</td>\n",
       "      <td>0.149357</td>\n",
       "      <td>0.154452</td>\n",
       "      <td>0.182688</td>\n",
       "      <td>0.000000</td>\n",
       "      <td>0.000000</td>\n",
       "      <td>0.000000</td>\n",
       "      <td>0.196957</td>\n",
       "      <td>0.000000</td>\n",
       "      <td>0.155193</td>\n",
       "    </tr>\n",
       "    <tr>\n",
       "      <th>98987</th>\n",
       "      <td>0.086730</td>\n",
       "      <td>0.000000</td>\n",
       "      <td>0.074623</td>\n",
       "      <td>0.149357</td>\n",
       "      <td>0.154452</td>\n",
       "      <td>0.182688</td>\n",
       "      <td>0.000000</td>\n",
       "      <td>0.000000</td>\n",
       "      <td>0.000000</td>\n",
       "      <td>0.196957</td>\n",
       "      <td>0.000000</td>\n",
       "      <td>0.155193</td>\n",
       "    </tr>\n",
       "  </tbody>\n",
       "</table>\n",
       "<p>98988 rows × 12 columns</p>\n",
       "</div>"
      ],
      "text/plain": [
       "       abstract_bertopic_topic_0  abstract_bertopic_topic_1  \\\n",
       "0                       0.071108                   0.318762   \n",
       "1                       0.071108                   0.318762   \n",
       "2                       0.071108                   0.318762   \n",
       "3                       0.071108                   0.318762   \n",
       "4                       0.071108                   0.318762   \n",
       "...                          ...                        ...   \n",
       "98983                   0.086730                   0.000000   \n",
       "98984                   0.086730                   0.000000   \n",
       "98985                   0.086730                   0.000000   \n",
       "98986                   0.086730                   0.000000   \n",
       "98987                   0.086730                   0.000000   \n",
       "\n",
       "       abstract_bertopic_topic_2  abstract_bertopic_topic_3  \\\n",
       "0                       0.056557                   0.000000   \n",
       "1                       0.056557                   0.000000   \n",
       "2                       0.056557                   0.000000   \n",
       "3                       0.056557                   0.000000   \n",
       "4                       0.056557                   0.000000   \n",
       "...                          ...                        ...   \n",
       "98983                   0.074623                   0.149357   \n",
       "98984                   0.074623                   0.149357   \n",
       "98985                   0.074623                   0.149357   \n",
       "98986                   0.074623                   0.149357   \n",
       "98987                   0.074623                   0.149357   \n",
       "\n",
       "       abstract_bertopic_topic_4  abstract_bertopic_topic_5  \\\n",
       "0                       0.063262                   0.000000   \n",
       "1                       0.063262                   0.000000   \n",
       "2                       0.063262                   0.000000   \n",
       "3                       0.063262                   0.000000   \n",
       "4                       0.063262                   0.000000   \n",
       "...                          ...                        ...   \n",
       "98983                   0.154452                   0.182688   \n",
       "98984                   0.154452                   0.182688   \n",
       "98985                   0.154452                   0.182688   \n",
       "98986                   0.154452                   0.182688   \n",
       "98987                   0.154452                   0.182688   \n",
       "\n",
       "       abstract_bertopic_topic_6  abstract_bertopic_topic_7  \\\n",
       "0                       0.383023                   0.017472   \n",
       "1                       0.383023                   0.017472   \n",
       "2                       0.383023                   0.017472   \n",
       "3                       0.383023                   0.017472   \n",
       "4                       0.383023                   0.017472   \n",
       "...                          ...                        ...   \n",
       "98983                   0.000000                   0.000000   \n",
       "98984                   0.000000                   0.000000   \n",
       "98985                   0.000000                   0.000000   \n",
       "98986                   0.000000                   0.000000   \n",
       "98987                   0.000000                   0.000000   \n",
       "\n",
       "       abstract_bertopic_topic_8  abstract_bertopic_topic_9  \\\n",
       "0                       0.053807                   0.000000   \n",
       "1                       0.053807                   0.000000   \n",
       "2                       0.053807                   0.000000   \n",
       "3                       0.053807                   0.000000   \n",
       "4                       0.053807                   0.000000   \n",
       "...                          ...                        ...   \n",
       "98983                   0.000000                   0.196957   \n",
       "98984                   0.000000                   0.196957   \n",
       "98985                   0.000000                   0.196957   \n",
       "98986                   0.000000                   0.196957   \n",
       "98987                   0.000000                   0.196957   \n",
       "\n",
       "       abstract_bertopic_topic_10  abstract_bertopic_topic_11  \n",
       "0                        0.036009                    0.000000  \n",
       "1                        0.036009                    0.000000  \n",
       "2                        0.036009                    0.000000  \n",
       "3                        0.036009                    0.000000  \n",
       "4                        0.036009                    0.000000  \n",
       "...                           ...                         ...  \n",
       "98983                    0.000000                    0.155193  \n",
       "98984                    0.000000                    0.155193  \n",
       "98985                    0.000000                    0.155193  \n",
       "98986                    0.000000                    0.155193  \n",
       "98987                    0.000000                    0.155193  \n",
       "\n",
       "[98988 rows x 12 columns]"
      ]
     },
     "execution_count": 35,
     "metadata": {},
     "output_type": "execute_result"
    }
   ],
   "source": [
    "abstract_bertopic_topic_representations = pd.DataFrame(abstract_bertopic_topics[0])\n",
    "abstract_bertopic_topic_representations.columns = [f'abstract_bertopic_topic_{topic}' for topic in abstract_bertopic_topic_representations.columns]\n",
    "abstract_bertopic_topic_representations"
   ]
  },
  {
   "cell_type": "code",
   "execution_count": 36,
   "metadata": {},
   "outputs": [
    {
     "data": {
      "text/html": [
       "<div>\n",
       "<style scoped>\n",
       "    .dataframe tbody tr th:only-of-type {\n",
       "        vertical-align: middle;\n",
       "    }\n",
       "\n",
       "    .dataframe tbody tr th {\n",
       "        vertical-align: top;\n",
       "    }\n",
       "\n",
       "    .dataframe thead th {\n",
       "        text-align: right;\n",
       "    }\n",
       "</style>\n",
       "<table border=\"1\" class=\"dataframe\">\n",
       "  <thead>\n",
       "    <tr style=\"text-align: right;\">\n",
       "      <th></th>\n",
       "      <th>review_bertopic_topic_0</th>\n",
       "      <th>review_bertopic_topic_1</th>\n",
       "      <th>review_bertopic_topic_2</th>\n",
       "      <th>review_bertopic_topic_3</th>\n",
       "      <th>review_bertopic_topic_4</th>\n",
       "      <th>review_bertopic_topic_5</th>\n",
       "      <th>review_bertopic_topic_6</th>\n",
       "      <th>review_bertopic_topic_7</th>\n",
       "      <th>review_bertopic_topic_8</th>\n",
       "      <th>review_bertopic_topic_9</th>\n",
       "      <th>review_bertopic_topic_10</th>\n",
       "    </tr>\n",
       "  </thead>\n",
       "  <tbody>\n",
       "    <tr>\n",
       "      <th>0</th>\n",
       "      <td>1.000000</td>\n",
       "      <td>0.000000</td>\n",
       "      <td>0.000000</td>\n",
       "      <td>0.000000</td>\n",
       "      <td>0.000000</td>\n",
       "      <td>0.000000</td>\n",
       "      <td>0.000000</td>\n",
       "      <td>0.000000</td>\n",
       "      <td>0.000000</td>\n",
       "      <td>0.000000</td>\n",
       "      <td>0.000000</td>\n",
       "    </tr>\n",
       "    <tr>\n",
       "      <th>1</th>\n",
       "      <td>0.402698</td>\n",
       "      <td>0.000000</td>\n",
       "      <td>0.000000</td>\n",
       "      <td>0.000000</td>\n",
       "      <td>0.000000</td>\n",
       "      <td>0.000000</td>\n",
       "      <td>0.246107</td>\n",
       "      <td>0.000000</td>\n",
       "      <td>0.000000</td>\n",
       "      <td>0.182754</td>\n",
       "      <td>0.168442</td>\n",
       "    </tr>\n",
       "    <tr>\n",
       "      <th>2</th>\n",
       "      <td>0.751222</td>\n",
       "      <td>0.000000</td>\n",
       "      <td>0.023090</td>\n",
       "      <td>0.008269</td>\n",
       "      <td>0.023078</td>\n",
       "      <td>0.023090</td>\n",
       "      <td>0.064026</td>\n",
       "      <td>0.042293</td>\n",
       "      <td>0.000000</td>\n",
       "      <td>0.036224</td>\n",
       "      <td>0.028709</td>\n",
       "    </tr>\n",
       "    <tr>\n",
       "      <th>3</th>\n",
       "      <td>0.783680</td>\n",
       "      <td>0.000000</td>\n",
       "      <td>0.000000</td>\n",
       "      <td>0.000000</td>\n",
       "      <td>0.000000</td>\n",
       "      <td>0.000000</td>\n",
       "      <td>0.076833</td>\n",
       "      <td>0.087383</td>\n",
       "      <td>0.000000</td>\n",
       "      <td>0.034376</td>\n",
       "      <td>0.017729</td>\n",
       "    </tr>\n",
       "    <tr>\n",
       "      <th>4</th>\n",
       "      <td>0.372212</td>\n",
       "      <td>0.063482</td>\n",
       "      <td>0.066340</td>\n",
       "      <td>0.071169</td>\n",
       "      <td>0.066306</td>\n",
       "      <td>0.066340</td>\n",
       "      <td>0.104592</td>\n",
       "      <td>0.000000</td>\n",
       "      <td>0.063482</td>\n",
       "      <td>0.062446</td>\n",
       "      <td>0.063629</td>\n",
       "    </tr>\n",
       "    <tr>\n",
       "      <th>...</th>\n",
       "      <td>...</td>\n",
       "      <td>...</td>\n",
       "      <td>...</td>\n",
       "      <td>...</td>\n",
       "      <td>...</td>\n",
       "      <td>...</td>\n",
       "      <td>...</td>\n",
       "      <td>...</td>\n",
       "      <td>...</td>\n",
       "      <td>...</td>\n",
       "      <td>...</td>\n",
       "    </tr>\n",
       "    <tr>\n",
       "      <th>99040</th>\n",
       "      <td>1.000000</td>\n",
       "      <td>0.000000</td>\n",
       "      <td>0.000000</td>\n",
       "      <td>0.000000</td>\n",
       "      <td>0.000000</td>\n",
       "      <td>0.000000</td>\n",
       "      <td>0.000000</td>\n",
       "      <td>0.000000</td>\n",
       "      <td>0.000000</td>\n",
       "      <td>0.000000</td>\n",
       "      <td>0.000000</td>\n",
       "    </tr>\n",
       "    <tr>\n",
       "      <th>99041</th>\n",
       "      <td>0.619002</td>\n",
       "      <td>0.000000</td>\n",
       "      <td>0.057645</td>\n",
       "      <td>0.061060</td>\n",
       "      <td>0.057616</td>\n",
       "      <td>0.057645</td>\n",
       "      <td>0.069685</td>\n",
       "      <td>0.000000</td>\n",
       "      <td>0.000000</td>\n",
       "      <td>0.037801</td>\n",
       "      <td>0.039545</td>\n",
       "    </tr>\n",
       "    <tr>\n",
       "      <th>99042</th>\n",
       "      <td>0.566328</td>\n",
       "      <td>0.000000</td>\n",
       "      <td>0.000000</td>\n",
       "      <td>0.000000</td>\n",
       "      <td>0.000000</td>\n",
       "      <td>0.000000</td>\n",
       "      <td>0.121254</td>\n",
       "      <td>0.188081</td>\n",
       "      <td>0.000000</td>\n",
       "      <td>0.095085</td>\n",
       "      <td>0.029251</td>\n",
       "    </tr>\n",
       "    <tr>\n",
       "      <th>99043</th>\n",
       "      <td>0.103074</td>\n",
       "      <td>0.000000</td>\n",
       "      <td>0.000000</td>\n",
       "      <td>0.000000</td>\n",
       "      <td>0.000000</td>\n",
       "      <td>0.000000</td>\n",
       "      <td>0.310483</td>\n",
       "      <td>0.000000</td>\n",
       "      <td>0.000000</td>\n",
       "      <td>0.298625</td>\n",
       "      <td>0.287818</td>\n",
       "    </tr>\n",
       "    <tr>\n",
       "      <th>99044</th>\n",
       "      <td>0.798720</td>\n",
       "      <td>0.000000</td>\n",
       "      <td>0.000000</td>\n",
       "      <td>0.000000</td>\n",
       "      <td>0.000000</td>\n",
       "      <td>0.000000</td>\n",
       "      <td>0.081247</td>\n",
       "      <td>0.000000</td>\n",
       "      <td>0.000000</td>\n",
       "      <td>0.061469</td>\n",
       "      <td>0.058564</td>\n",
       "    </tr>\n",
       "  </tbody>\n",
       "</table>\n",
       "<p>99045 rows × 11 columns</p>\n",
       "</div>"
      ],
      "text/plain": [
       "       review_bertopic_topic_0  review_bertopic_topic_1  \\\n",
       "0                     1.000000                 0.000000   \n",
       "1                     0.402698                 0.000000   \n",
       "2                     0.751222                 0.000000   \n",
       "3                     0.783680                 0.000000   \n",
       "4                     0.372212                 0.063482   \n",
       "...                        ...                      ...   \n",
       "99040                 1.000000                 0.000000   \n",
       "99041                 0.619002                 0.000000   \n",
       "99042                 0.566328                 0.000000   \n",
       "99043                 0.103074                 0.000000   \n",
       "99044                 0.798720                 0.000000   \n",
       "\n",
       "       review_bertopic_topic_2  review_bertopic_topic_3  \\\n",
       "0                     0.000000                 0.000000   \n",
       "1                     0.000000                 0.000000   \n",
       "2                     0.023090                 0.008269   \n",
       "3                     0.000000                 0.000000   \n",
       "4                     0.066340                 0.071169   \n",
       "...                        ...                      ...   \n",
       "99040                 0.000000                 0.000000   \n",
       "99041                 0.057645                 0.061060   \n",
       "99042                 0.000000                 0.000000   \n",
       "99043                 0.000000                 0.000000   \n",
       "99044                 0.000000                 0.000000   \n",
       "\n",
       "       review_bertopic_topic_4  review_bertopic_topic_5  \\\n",
       "0                     0.000000                 0.000000   \n",
       "1                     0.000000                 0.000000   \n",
       "2                     0.023078                 0.023090   \n",
       "3                     0.000000                 0.000000   \n",
       "4                     0.066306                 0.066340   \n",
       "...                        ...                      ...   \n",
       "99040                 0.000000                 0.000000   \n",
       "99041                 0.057616                 0.057645   \n",
       "99042                 0.000000                 0.000000   \n",
       "99043                 0.000000                 0.000000   \n",
       "99044                 0.000000                 0.000000   \n",
       "\n",
       "       review_bertopic_topic_6  review_bertopic_topic_7  \\\n",
       "0                     0.000000                 0.000000   \n",
       "1                     0.246107                 0.000000   \n",
       "2                     0.064026                 0.042293   \n",
       "3                     0.076833                 0.087383   \n",
       "4                     0.104592                 0.000000   \n",
       "...                        ...                      ...   \n",
       "99040                 0.000000                 0.000000   \n",
       "99041                 0.069685                 0.000000   \n",
       "99042                 0.121254                 0.188081   \n",
       "99043                 0.310483                 0.000000   \n",
       "99044                 0.081247                 0.000000   \n",
       "\n",
       "       review_bertopic_topic_8  review_bertopic_topic_9  \\\n",
       "0                     0.000000                 0.000000   \n",
       "1                     0.000000                 0.182754   \n",
       "2                     0.000000                 0.036224   \n",
       "3                     0.000000                 0.034376   \n",
       "4                     0.063482                 0.062446   \n",
       "...                        ...                      ...   \n",
       "99040                 0.000000                 0.000000   \n",
       "99041                 0.000000                 0.037801   \n",
       "99042                 0.000000                 0.095085   \n",
       "99043                 0.000000                 0.298625   \n",
       "99044                 0.000000                 0.061469   \n",
       "\n",
       "       review_bertopic_topic_10  \n",
       "0                      0.000000  \n",
       "1                      0.168442  \n",
       "2                      0.028709  \n",
       "3                      0.017729  \n",
       "4                      0.063629  \n",
       "...                         ...  \n",
       "99040                  0.000000  \n",
       "99041                  0.039545  \n",
       "99042                  0.029251  \n",
       "99043                  0.287818  \n",
       "99044                  0.058564  \n",
       "\n",
       "[99045 rows x 11 columns]"
      ]
     },
     "execution_count": 36,
     "metadata": {},
     "output_type": "execute_result"
    }
   ],
   "source": [
    "review_bertopic_topic_representations = pd.DataFrame(review_bertopic_topics[0])\n",
    "review_bertopic_topic_representations.columns = [f'review_bertopic_topic_{topic}' for topic in review_bertopic_topic_representations.columns]\n",
    "review_bertopic_topic_representations"
   ]
  },
  {
   "cell_type": "code",
   "execution_count": 38,
   "metadata": {},
   "outputs": [
    {
     "data": {
      "text/html": [
       "<div>\n",
       "<style scoped>\n",
       "    .dataframe tbody tr th:only-of-type {\n",
       "        vertical-align: middle;\n",
       "    }\n",
       "\n",
       "    .dataframe tbody tr th {\n",
       "        vertical-align: top;\n",
       "    }\n",
       "\n",
       "    .dataframe thead th {\n",
       "        text-align: right;\n",
       "    }\n",
       "</style>\n",
       "<table border=\"1\" class=\"dataframe\">\n",
       "  <thead>\n",
       "    <tr style=\"text-align: right;\">\n",
       "      <th></th>\n",
       "      <th>abstract_lda_topic_0</th>\n",
       "      <th>abstract_lda_topic_1</th>\n",
       "      <th>abstract_lda_topic_2</th>\n",
       "      <th>abstract_lda_topic_3</th>\n",
       "      <th>abstract_lda_topic_4</th>\n",
       "      <th>abstract_lda_topic_5</th>\n",
       "      <th>abstract_lda_topic_6</th>\n",
       "      <th>abstract_lda_topic_7</th>\n",
       "      <th>abstract_lda_topic_8</th>\n",
       "      <th>abstract_lda_topic_9</th>\n",
       "      <th>...</th>\n",
       "      <th>abstract_lda_topic_39</th>\n",
       "      <th>abstract_lda_topic_40</th>\n",
       "      <th>abstract_lda_topic_41</th>\n",
       "      <th>abstract_lda_topic_42</th>\n",
       "      <th>abstract_lda_topic_43</th>\n",
       "      <th>abstract_lda_topic_44</th>\n",
       "      <th>abstract_lda_topic_45</th>\n",
       "      <th>abstract_lda_topic_46</th>\n",
       "      <th>abstract_lda_topic_47</th>\n",
       "      <th>abstract_lda_topic_48</th>\n",
       "    </tr>\n",
       "  </thead>\n",
       "  <tbody>\n",
       "    <tr>\n",
       "      <th>0</th>\n",
       "      <td>0.000166</td>\n",
       "      <td>0.000153</td>\n",
       "      <td>0.000103</td>\n",
       "      <td>0.000058</td>\n",
       "      <td>0.000051</td>\n",
       "      <td>0.000068</td>\n",
       "      <td>0.000084</td>\n",
       "      <td>0.000049</td>\n",
       "      <td>0.000144</td>\n",
       "      <td>0.074198</td>\n",
       "      <td>...</td>\n",
       "      <td>0.000118</td>\n",
       "      <td>0.000058</td>\n",
       "      <td>0.000084</td>\n",
       "      <td>0.000126</td>\n",
       "      <td>0.000115</td>\n",
       "      <td>0.000067</td>\n",
       "      <td>0.000113</td>\n",
       "      <td>0.000036</td>\n",
       "      <td>0.000054</td>\n",
       "      <td>0.000053</td>\n",
       "    </tr>\n",
       "    <tr>\n",
       "      <th>1</th>\n",
       "      <td>0.000166</td>\n",
       "      <td>0.000153</td>\n",
       "      <td>0.000103</td>\n",
       "      <td>0.000058</td>\n",
       "      <td>0.000051</td>\n",
       "      <td>0.000068</td>\n",
       "      <td>0.000084</td>\n",
       "      <td>0.000049</td>\n",
       "      <td>0.000144</td>\n",
       "      <td>0.000077</td>\n",
       "      <td>...</td>\n",
       "      <td>0.000118</td>\n",
       "      <td>0.000058</td>\n",
       "      <td>0.000084</td>\n",
       "      <td>0.000126</td>\n",
       "      <td>0.000115</td>\n",
       "      <td>0.000067</td>\n",
       "      <td>0.000113</td>\n",
       "      <td>0.000036</td>\n",
       "      <td>0.000054</td>\n",
       "      <td>0.000053</td>\n",
       "    </tr>\n",
       "    <tr>\n",
       "      <th>2</th>\n",
       "      <td>0.000166</td>\n",
       "      <td>0.000153</td>\n",
       "      <td>0.000103</td>\n",
       "      <td>0.000058</td>\n",
       "      <td>0.000051</td>\n",
       "      <td>0.000068</td>\n",
       "      <td>0.000084</td>\n",
       "      <td>0.000049</td>\n",
       "      <td>0.000144</td>\n",
       "      <td>0.000077</td>\n",
       "      <td>...</td>\n",
       "      <td>0.000118</td>\n",
       "      <td>0.000058</td>\n",
       "      <td>0.000084</td>\n",
       "      <td>0.000126</td>\n",
       "      <td>0.000115</td>\n",
       "      <td>0.000067</td>\n",
       "      <td>0.000113</td>\n",
       "      <td>0.000036</td>\n",
       "      <td>0.000054</td>\n",
       "      <td>0.000053</td>\n",
       "    </tr>\n",
       "    <tr>\n",
       "      <th>3</th>\n",
       "      <td>0.000166</td>\n",
       "      <td>0.000153</td>\n",
       "      <td>0.000103</td>\n",
       "      <td>0.000058</td>\n",
       "      <td>0.000051</td>\n",
       "      <td>0.000068</td>\n",
       "      <td>0.000084</td>\n",
       "      <td>0.000049</td>\n",
       "      <td>0.000144</td>\n",
       "      <td>0.000077</td>\n",
       "      <td>...</td>\n",
       "      <td>0.000118</td>\n",
       "      <td>0.000058</td>\n",
       "      <td>0.000084</td>\n",
       "      <td>0.000126</td>\n",
       "      <td>0.000115</td>\n",
       "      <td>0.000067</td>\n",
       "      <td>0.000113</td>\n",
       "      <td>0.000036</td>\n",
       "      <td>0.000054</td>\n",
       "      <td>0.000053</td>\n",
       "    </tr>\n",
       "    <tr>\n",
       "      <th>4</th>\n",
       "      <td>0.000166</td>\n",
       "      <td>0.000153</td>\n",
       "      <td>0.000103</td>\n",
       "      <td>0.000058</td>\n",
       "      <td>0.000051</td>\n",
       "      <td>0.000068</td>\n",
       "      <td>0.000084</td>\n",
       "      <td>0.000049</td>\n",
       "      <td>0.000144</td>\n",
       "      <td>0.000077</td>\n",
       "      <td>...</td>\n",
       "      <td>0.000118</td>\n",
       "      <td>0.000058</td>\n",
       "      <td>0.000084</td>\n",
       "      <td>0.000126</td>\n",
       "      <td>0.000115</td>\n",
       "      <td>0.000067</td>\n",
       "      <td>0.000113</td>\n",
       "      <td>0.000036</td>\n",
       "      <td>0.000054</td>\n",
       "      <td>0.000053</td>\n",
       "    </tr>\n",
       "    <tr>\n",
       "      <th>...</th>\n",
       "      <td>...</td>\n",
       "      <td>...</td>\n",
       "      <td>...</td>\n",
       "      <td>...</td>\n",
       "      <td>...</td>\n",
       "      <td>...</td>\n",
       "      <td>...</td>\n",
       "      <td>...</td>\n",
       "      <td>...</td>\n",
       "      <td>...</td>\n",
       "      <td>...</td>\n",
       "      <td>...</td>\n",
       "      <td>...</td>\n",
       "      <td>...</td>\n",
       "      <td>...</td>\n",
       "      <td>...</td>\n",
       "      <td>...</td>\n",
       "      <td>...</td>\n",
       "      <td>...</td>\n",
       "      <td>...</td>\n",
       "      <td>...</td>\n",
       "    </tr>\n",
       "    <tr>\n",
       "      <th>98983</th>\n",
       "      <td>0.000132</td>\n",
       "      <td>0.000122</td>\n",
       "      <td>0.000082</td>\n",
       "      <td>0.000046</td>\n",
       "      <td>0.000040</td>\n",
       "      <td>0.000054</td>\n",
       "      <td>0.000067</td>\n",
       "      <td>0.000039</td>\n",
       "      <td>0.000115</td>\n",
       "      <td>0.000062</td>\n",
       "      <td>...</td>\n",
       "      <td>0.000094</td>\n",
       "      <td>0.937229</td>\n",
       "      <td>0.000067</td>\n",
       "      <td>0.000101</td>\n",
       "      <td>0.000092</td>\n",
       "      <td>0.000053</td>\n",
       "      <td>0.000090</td>\n",
       "      <td>0.000029</td>\n",
       "      <td>0.000043</td>\n",
       "      <td>0.000042</td>\n",
       "    </tr>\n",
       "    <tr>\n",
       "      <th>98984</th>\n",
       "      <td>0.000132</td>\n",
       "      <td>0.000122</td>\n",
       "      <td>0.008526</td>\n",
       "      <td>0.118249</td>\n",
       "      <td>0.000040</td>\n",
       "      <td>0.000054</td>\n",
       "      <td>0.000067</td>\n",
       "      <td>0.000039</td>\n",
       "      <td>0.000115</td>\n",
       "      <td>0.000062</td>\n",
       "      <td>...</td>\n",
       "      <td>0.000094</td>\n",
       "      <td>0.852798</td>\n",
       "      <td>0.000067</td>\n",
       "      <td>0.000101</td>\n",
       "      <td>0.000092</td>\n",
       "      <td>0.000053</td>\n",
       "      <td>0.000090</td>\n",
       "      <td>0.000029</td>\n",
       "      <td>0.000043</td>\n",
       "      <td>0.000042</td>\n",
       "    </tr>\n",
       "    <tr>\n",
       "      <th>98985</th>\n",
       "      <td>0.000132</td>\n",
       "      <td>0.000122</td>\n",
       "      <td>0.000082</td>\n",
       "      <td>0.000046</td>\n",
       "      <td>0.000040</td>\n",
       "      <td>0.000054</td>\n",
       "      <td>0.000067</td>\n",
       "      <td>0.000039</td>\n",
       "      <td>0.008558</td>\n",
       "      <td>0.000062</td>\n",
       "      <td>...</td>\n",
       "      <td>0.000094</td>\n",
       "      <td>0.971001</td>\n",
       "      <td>0.000067</td>\n",
       "      <td>0.000101</td>\n",
       "      <td>0.000092</td>\n",
       "      <td>0.000053</td>\n",
       "      <td>0.000090</td>\n",
       "      <td>0.000029</td>\n",
       "      <td>0.000043</td>\n",
       "      <td>0.000042</td>\n",
       "    </tr>\n",
       "    <tr>\n",
       "      <th>98986</th>\n",
       "      <td>0.000132</td>\n",
       "      <td>0.000122</td>\n",
       "      <td>0.000082</td>\n",
       "      <td>0.000046</td>\n",
       "      <td>0.000040</td>\n",
       "      <td>0.000054</td>\n",
       "      <td>0.000067</td>\n",
       "      <td>0.000039</td>\n",
       "      <td>0.000115</td>\n",
       "      <td>0.000062</td>\n",
       "      <td>...</td>\n",
       "      <td>0.000094</td>\n",
       "      <td>0.971001</td>\n",
       "      <td>0.000067</td>\n",
       "      <td>0.000101</td>\n",
       "      <td>0.000092</td>\n",
       "      <td>0.000053</td>\n",
       "      <td>0.000090</td>\n",
       "      <td>0.000029</td>\n",
       "      <td>0.000043</td>\n",
       "      <td>0.000042</td>\n",
       "    </tr>\n",
       "    <tr>\n",
       "      <th>98987</th>\n",
       "      <td>0.000132</td>\n",
       "      <td>0.000122</td>\n",
       "      <td>0.000082</td>\n",
       "      <td>0.000046</td>\n",
       "      <td>0.000040</td>\n",
       "      <td>0.000054</td>\n",
       "      <td>0.000067</td>\n",
       "      <td>0.000039</td>\n",
       "      <td>0.000115</td>\n",
       "      <td>0.000062</td>\n",
       "      <td>...</td>\n",
       "      <td>0.000094</td>\n",
       "      <td>0.945672</td>\n",
       "      <td>0.000067</td>\n",
       "      <td>0.000101</td>\n",
       "      <td>0.000092</td>\n",
       "      <td>0.000053</td>\n",
       "      <td>0.000090</td>\n",
       "      <td>0.000029</td>\n",
       "      <td>0.000043</td>\n",
       "      <td>0.000042</td>\n",
       "    </tr>\n",
       "  </tbody>\n",
       "</table>\n",
       "<p>98988 rows × 49 columns</p>\n",
       "</div>"
      ],
      "text/plain": [
       "       abstract_lda_topic_0  abstract_lda_topic_1  abstract_lda_topic_2  \\\n",
       "0                  0.000166              0.000153              0.000103   \n",
       "1                  0.000166              0.000153              0.000103   \n",
       "2                  0.000166              0.000153              0.000103   \n",
       "3                  0.000166              0.000153              0.000103   \n",
       "4                  0.000166              0.000153              0.000103   \n",
       "...                     ...                   ...                   ...   \n",
       "98983              0.000132              0.000122              0.000082   \n",
       "98984              0.000132              0.000122              0.008526   \n",
       "98985              0.000132              0.000122              0.000082   \n",
       "98986              0.000132              0.000122              0.000082   \n",
       "98987              0.000132              0.000122              0.000082   \n",
       "\n",
       "       abstract_lda_topic_3  abstract_lda_topic_4  abstract_lda_topic_5  \\\n",
       "0                  0.000058              0.000051              0.000068   \n",
       "1                  0.000058              0.000051              0.000068   \n",
       "2                  0.000058              0.000051              0.000068   \n",
       "3                  0.000058              0.000051              0.000068   \n",
       "4                  0.000058              0.000051              0.000068   \n",
       "...                     ...                   ...                   ...   \n",
       "98983              0.000046              0.000040              0.000054   \n",
       "98984              0.118249              0.000040              0.000054   \n",
       "98985              0.000046              0.000040              0.000054   \n",
       "98986              0.000046              0.000040              0.000054   \n",
       "98987              0.000046              0.000040              0.000054   \n",
       "\n",
       "       abstract_lda_topic_6  abstract_lda_topic_7  abstract_lda_topic_8  \\\n",
       "0                  0.000084              0.000049              0.000144   \n",
       "1                  0.000084              0.000049              0.000144   \n",
       "2                  0.000084              0.000049              0.000144   \n",
       "3                  0.000084              0.000049              0.000144   \n",
       "4                  0.000084              0.000049              0.000144   \n",
       "...                     ...                   ...                   ...   \n",
       "98983              0.000067              0.000039              0.000115   \n",
       "98984              0.000067              0.000039              0.000115   \n",
       "98985              0.000067              0.000039              0.008558   \n",
       "98986              0.000067              0.000039              0.000115   \n",
       "98987              0.000067              0.000039              0.000115   \n",
       "\n",
       "       abstract_lda_topic_9  ...  abstract_lda_topic_39  \\\n",
       "0                  0.074198  ...               0.000118   \n",
       "1                  0.000077  ...               0.000118   \n",
       "2                  0.000077  ...               0.000118   \n",
       "3                  0.000077  ...               0.000118   \n",
       "4                  0.000077  ...               0.000118   \n",
       "...                     ...  ...                    ...   \n",
       "98983              0.000062  ...               0.000094   \n",
       "98984              0.000062  ...               0.000094   \n",
       "98985              0.000062  ...               0.000094   \n",
       "98986              0.000062  ...               0.000094   \n",
       "98987              0.000062  ...               0.000094   \n",
       "\n",
       "       abstract_lda_topic_40  abstract_lda_topic_41  abstract_lda_topic_42  \\\n",
       "0                   0.000058               0.000084               0.000126   \n",
       "1                   0.000058               0.000084               0.000126   \n",
       "2                   0.000058               0.000084               0.000126   \n",
       "3                   0.000058               0.000084               0.000126   \n",
       "4                   0.000058               0.000084               0.000126   \n",
       "...                      ...                    ...                    ...   \n",
       "98983               0.937229               0.000067               0.000101   \n",
       "98984               0.852798               0.000067               0.000101   \n",
       "98985               0.971001               0.000067               0.000101   \n",
       "98986               0.971001               0.000067               0.000101   \n",
       "98987               0.945672               0.000067               0.000101   \n",
       "\n",
       "       abstract_lda_topic_43  abstract_lda_topic_44  abstract_lda_topic_45  \\\n",
       "0                   0.000115               0.000067               0.000113   \n",
       "1                   0.000115               0.000067               0.000113   \n",
       "2                   0.000115               0.000067               0.000113   \n",
       "3                   0.000115               0.000067               0.000113   \n",
       "4                   0.000115               0.000067               0.000113   \n",
       "...                      ...                    ...                    ...   \n",
       "98983               0.000092               0.000053               0.000090   \n",
       "98984               0.000092               0.000053               0.000090   \n",
       "98985               0.000092               0.000053               0.000090   \n",
       "98986               0.000092               0.000053               0.000090   \n",
       "98987               0.000092               0.000053               0.000090   \n",
       "\n",
       "       abstract_lda_topic_46  abstract_lda_topic_47  abstract_lda_topic_48  \n",
       "0                   0.000036               0.000054               0.000053  \n",
       "1                   0.000036               0.000054               0.000053  \n",
       "2                   0.000036               0.000054               0.000053  \n",
       "3                   0.000036               0.000054               0.000053  \n",
       "4                   0.000036               0.000054               0.000053  \n",
       "...                      ...                    ...                    ...  \n",
       "98983               0.000029               0.000043               0.000042  \n",
       "98984               0.000029               0.000043               0.000042  \n",
       "98985               0.000029               0.000043               0.000042  \n",
       "98986               0.000029               0.000043               0.000042  \n",
       "98987               0.000029               0.000043               0.000042  \n",
       "\n",
       "[98988 rows x 49 columns]"
      ]
     },
     "execution_count": 38,
     "metadata": {},
     "output_type": "execute_result"
    }
   ],
   "source": [
    "abstract_lda_topic_representations = pd.DataFrame(abstract_lda_topics)\n",
    "abstract_lda_topic_representations.columns = [f'abstract_lda_topic_{topic}' for topic in abstract_lda_topic_representations.columns]\n",
    "abstract_lda_topic_representations"
   ]
  },
  {
   "cell_type": "code",
   "execution_count": 39,
   "metadata": {},
   "outputs": [
    {
     "data": {
      "text/html": [
       "<div>\n",
       "<style scoped>\n",
       "    .dataframe tbody tr th:only-of-type {\n",
       "        vertical-align: middle;\n",
       "    }\n",
       "\n",
       "    .dataframe tbody tr th {\n",
       "        vertical-align: top;\n",
       "    }\n",
       "\n",
       "    .dataframe thead th {\n",
       "        text-align: right;\n",
       "    }\n",
       "</style>\n",
       "<table border=\"1\" class=\"dataframe\">\n",
       "  <thead>\n",
       "    <tr style=\"text-align: right;\">\n",
       "      <th></th>\n",
       "      <th>review_lda_topic_0</th>\n",
       "      <th>review_lda_topic_1</th>\n",
       "      <th>review_lda_topic_2</th>\n",
       "      <th>review_lda_topic_3</th>\n",
       "      <th>review_lda_topic_4</th>\n",
       "      <th>review_lda_topic_5</th>\n",
       "      <th>review_lda_topic_6</th>\n",
       "      <th>review_lda_topic_7</th>\n",
       "      <th>review_lda_topic_8</th>\n",
       "      <th>review_lda_topic_9</th>\n",
       "      <th>review_lda_topic_10</th>\n",
       "      <th>review_lda_topic_11</th>\n",
       "      <th>review_lda_topic_12</th>\n",
       "      <th>review_lda_topic_13</th>\n",
       "    </tr>\n",
       "  </thead>\n",
       "  <tbody>\n",
       "    <tr>\n",
       "      <th>0</th>\n",
       "      <td>0.552294</td>\n",
       "      <td>0.003195</td>\n",
       "      <td>0.001997</td>\n",
       "      <td>0.000178</td>\n",
       "      <td>0.002764</td>\n",
       "      <td>0.004384</td>\n",
       "      <td>0.002543</td>\n",
       "      <td>0.003189</td>\n",
       "      <td>0.075867</td>\n",
       "      <td>0.094083</td>\n",
       "      <td>0.253402</td>\n",
       "      <td>0.000758</td>\n",
       "      <td>0.003390</td>\n",
       "      <td>0.001956</td>\n",
       "    </tr>\n",
       "    <tr>\n",
       "      <th>1</th>\n",
       "      <td>0.341064</td>\n",
       "      <td>0.101453</td>\n",
       "      <td>0.000405</td>\n",
       "      <td>0.000036</td>\n",
       "      <td>0.124276</td>\n",
       "      <td>0.060456</td>\n",
       "      <td>0.082993</td>\n",
       "      <td>0.170183</td>\n",
       "      <td>0.107021</td>\n",
       "      <td>0.000744</td>\n",
       "      <td>0.000966</td>\n",
       "      <td>0.000154</td>\n",
       "      <td>0.009851</td>\n",
       "      <td>0.000396</td>\n",
       "    </tr>\n",
       "    <tr>\n",
       "      <th>2</th>\n",
       "      <td>0.142388</td>\n",
       "      <td>0.009163</td>\n",
       "      <td>0.000132</td>\n",
       "      <td>0.000012</td>\n",
       "      <td>0.110590</td>\n",
       "      <td>0.000289</td>\n",
       "      <td>0.085212</td>\n",
       "      <td>0.253850</td>\n",
       "      <td>0.195984</td>\n",
       "      <td>0.052462</td>\n",
       "      <td>0.062979</td>\n",
       "      <td>0.000050</td>\n",
       "      <td>0.000224</td>\n",
       "      <td>0.086665</td>\n",
       "    </tr>\n",
       "    <tr>\n",
       "      <th>3</th>\n",
       "      <td>0.227314</td>\n",
       "      <td>0.029301</td>\n",
       "      <td>0.000232</td>\n",
       "      <td>0.000021</td>\n",
       "      <td>0.134447</td>\n",
       "      <td>0.000510</td>\n",
       "      <td>0.126531</td>\n",
       "      <td>0.431676</td>\n",
       "      <td>0.021977</td>\n",
       "      <td>0.013577</td>\n",
       "      <td>0.000555</td>\n",
       "      <td>0.000088</td>\n",
       "      <td>0.003024</td>\n",
       "      <td>0.010747</td>\n",
       "    </tr>\n",
       "    <tr>\n",
       "      <th>4</th>\n",
       "      <td>0.045792</td>\n",
       "      <td>0.000317</td>\n",
       "      <td>0.094317</td>\n",
       "      <td>0.000018</td>\n",
       "      <td>0.441739</td>\n",
       "      <td>0.000435</td>\n",
       "      <td>0.000252</td>\n",
       "      <td>0.282674</td>\n",
       "      <td>0.003040</td>\n",
       "      <td>0.105688</td>\n",
       "      <td>0.000473</td>\n",
       "      <td>0.000075</td>\n",
       "      <td>0.000336</td>\n",
       "      <td>0.024844</td>\n",
       "    </tr>\n",
       "    <tr>\n",
       "      <th>...</th>\n",
       "      <td>...</td>\n",
       "      <td>...</td>\n",
       "      <td>...</td>\n",
       "      <td>...</td>\n",
       "      <td>...</td>\n",
       "      <td>...</td>\n",
       "      <td>...</td>\n",
       "      <td>...</td>\n",
       "      <td>...</td>\n",
       "      <td>...</td>\n",
       "      <td>...</td>\n",
       "      <td>...</td>\n",
       "      <td>...</td>\n",
       "      <td>...</td>\n",
       "    </tr>\n",
       "    <tr>\n",
       "      <th>99040</th>\n",
       "      <td>0.133346</td>\n",
       "      <td>0.000840</td>\n",
       "      <td>0.000525</td>\n",
       "      <td>0.000047</td>\n",
       "      <td>0.018558</td>\n",
       "      <td>0.001153</td>\n",
       "      <td>0.000669</td>\n",
       "      <td>0.000839</td>\n",
       "      <td>0.210153</td>\n",
       "      <td>0.000965</td>\n",
       "      <td>0.126074</td>\n",
       "      <td>0.000199</td>\n",
       "      <td>0.066274</td>\n",
       "      <td>0.440358</td>\n",
       "    </tr>\n",
       "    <tr>\n",
       "      <th>99041</th>\n",
       "      <td>0.067702</td>\n",
       "      <td>0.000237</td>\n",
       "      <td>0.018566</td>\n",
       "      <td>0.000013</td>\n",
       "      <td>0.000205</td>\n",
       "      <td>0.135948</td>\n",
       "      <td>0.000188</td>\n",
       "      <td>0.000236</td>\n",
       "      <td>0.029061</td>\n",
       "      <td>0.018690</td>\n",
       "      <td>0.042212</td>\n",
       "      <td>0.000056</td>\n",
       "      <td>0.070574</td>\n",
       "      <td>0.616311</td>\n",
       "    </tr>\n",
       "    <tr>\n",
       "      <th>99042</th>\n",
       "      <td>0.447885</td>\n",
       "      <td>0.000630</td>\n",
       "      <td>0.000394</td>\n",
       "      <td>0.000035</td>\n",
       "      <td>0.022843</td>\n",
       "      <td>0.000865</td>\n",
       "      <td>0.000502</td>\n",
       "      <td>0.000629</td>\n",
       "      <td>0.211185</td>\n",
       "      <td>0.000724</td>\n",
       "      <td>0.000941</td>\n",
       "      <td>0.000150</td>\n",
       "      <td>0.000669</td>\n",
       "      <td>0.312549</td>\n",
       "    </tr>\n",
       "    <tr>\n",
       "      <th>99043</th>\n",
       "      <td>0.301566</td>\n",
       "      <td>0.000845</td>\n",
       "      <td>0.000528</td>\n",
       "      <td>0.000047</td>\n",
       "      <td>0.000731</td>\n",
       "      <td>0.084871</td>\n",
       "      <td>0.000673</td>\n",
       "      <td>0.000844</td>\n",
       "      <td>0.002131</td>\n",
       "      <td>0.000971</td>\n",
       "      <td>0.001261</td>\n",
       "      <td>0.000201</td>\n",
       "      <td>0.006876</td>\n",
       "      <td>0.598455</td>\n",
       "    </tr>\n",
       "    <tr>\n",
       "      <th>99044</th>\n",
       "      <td>0.096663</td>\n",
       "      <td>0.084026</td>\n",
       "      <td>0.001658</td>\n",
       "      <td>0.000012</td>\n",
       "      <td>0.013901</td>\n",
       "      <td>0.017058</td>\n",
       "      <td>0.000171</td>\n",
       "      <td>0.000215</td>\n",
       "      <td>0.194069</td>\n",
       "      <td>0.049010</td>\n",
       "      <td>0.015560</td>\n",
       "      <td>0.000051</td>\n",
       "      <td>0.050515</td>\n",
       "      <td>0.477090</td>\n",
       "    </tr>\n",
       "  </tbody>\n",
       "</table>\n",
       "<p>99045 rows × 14 columns</p>\n",
       "</div>"
      ],
      "text/plain": [
       "       review_lda_topic_0  review_lda_topic_1  review_lda_topic_2  \\\n",
       "0                0.552294            0.003195            0.001997   \n",
       "1                0.341064            0.101453            0.000405   \n",
       "2                0.142388            0.009163            0.000132   \n",
       "3                0.227314            0.029301            0.000232   \n",
       "4                0.045792            0.000317            0.094317   \n",
       "...                   ...                 ...                 ...   \n",
       "99040            0.133346            0.000840            0.000525   \n",
       "99041            0.067702            0.000237            0.018566   \n",
       "99042            0.447885            0.000630            0.000394   \n",
       "99043            0.301566            0.000845            0.000528   \n",
       "99044            0.096663            0.084026            0.001658   \n",
       "\n",
       "       review_lda_topic_3  review_lda_topic_4  review_lda_topic_5  \\\n",
       "0                0.000178            0.002764            0.004384   \n",
       "1                0.000036            0.124276            0.060456   \n",
       "2                0.000012            0.110590            0.000289   \n",
       "3                0.000021            0.134447            0.000510   \n",
       "4                0.000018            0.441739            0.000435   \n",
       "...                   ...                 ...                 ...   \n",
       "99040            0.000047            0.018558            0.001153   \n",
       "99041            0.000013            0.000205            0.135948   \n",
       "99042            0.000035            0.022843            0.000865   \n",
       "99043            0.000047            0.000731            0.084871   \n",
       "99044            0.000012            0.013901            0.017058   \n",
       "\n",
       "       review_lda_topic_6  review_lda_topic_7  review_lda_topic_8  \\\n",
       "0                0.002543            0.003189            0.075867   \n",
       "1                0.082993            0.170183            0.107021   \n",
       "2                0.085212            0.253850            0.195984   \n",
       "3                0.126531            0.431676            0.021977   \n",
       "4                0.000252            0.282674            0.003040   \n",
       "...                   ...                 ...                 ...   \n",
       "99040            0.000669            0.000839            0.210153   \n",
       "99041            0.000188            0.000236            0.029061   \n",
       "99042            0.000502            0.000629            0.211185   \n",
       "99043            0.000673            0.000844            0.002131   \n",
       "99044            0.000171            0.000215            0.194069   \n",
       "\n",
       "       review_lda_topic_9  review_lda_topic_10  review_lda_topic_11  \\\n",
       "0                0.094083             0.253402             0.000758   \n",
       "1                0.000744             0.000966             0.000154   \n",
       "2                0.052462             0.062979             0.000050   \n",
       "3                0.013577             0.000555             0.000088   \n",
       "4                0.105688             0.000473             0.000075   \n",
       "...                   ...                  ...                  ...   \n",
       "99040            0.000965             0.126074             0.000199   \n",
       "99041            0.018690             0.042212             0.000056   \n",
       "99042            0.000724             0.000941             0.000150   \n",
       "99043            0.000971             0.001261             0.000201   \n",
       "99044            0.049010             0.015560             0.000051   \n",
       "\n",
       "       review_lda_topic_12  review_lda_topic_13  \n",
       "0                 0.003390             0.001956  \n",
       "1                 0.009851             0.000396  \n",
       "2                 0.000224             0.086665  \n",
       "3                 0.003024             0.010747  \n",
       "4                 0.000336             0.024844  \n",
       "...                    ...                  ...  \n",
       "99040             0.066274             0.440358  \n",
       "99041             0.070574             0.616311  \n",
       "99042             0.000669             0.312549  \n",
       "99043             0.006876             0.598455  \n",
       "99044             0.050515             0.477090  \n",
       "\n",
       "[99045 rows x 14 columns]"
      ]
     },
     "execution_count": 39,
     "metadata": {},
     "output_type": "execute_result"
    }
   ],
   "source": [
    "review_lda_topic_representations = pd.DataFrame(review_lda_topics)\n",
    "review_lda_topic_representations.columns = [f'review_lda_topic_{topic}' for topic in review_lda_topic_representations.columns]\n",
    "review_lda_topic_representations"
   ]
  },
  {
   "cell_type": "code",
   "execution_count": 41,
   "metadata": {},
   "outputs": [],
   "source": [
    "abstract_df = pd.concat([abstract_bertopic_df, abstract_bertopic_topic_representations, abstract_lda_topic_representations], axis = 1)"
   ]
  },
  {
   "cell_type": "code",
   "execution_count": 42,
   "metadata": {},
   "outputs": [],
   "source": [
    "review_df = pd.concat([review_bertopic_df, review_bertopic_topic_representations, review_lda_topic_representations], axis = 1)"
   ]
  },
  {
   "cell_type": "code",
   "execution_count": 45,
   "metadata": {},
   "outputs": [
    {
     "data": {
      "text/plain": [
       "Index(['Paper Title', 'Paper Link', 'Accept', 'Keywords', 'TL;DR', 'Abstract',\n",
       "       'Data', 'Review Title', 'Review Signature', 'Review Date',\n",
       "       'Review Meta', 'Review Subtitles', 'Review Contents', 'Code',\n",
       "       'Community Implementations', 'Original Pdf', 'Reviewed Version (pdf)',\n",
       "       'Code Of Ethics', 'Supplementary Material', 'One-sentence Summary',\n",
       "       'One Line Summary', 'Acknowledgement Of Code Of Ethics',\n",
       "       'Anonymous Url', 'No Acknowledgement Section', 'Submission Guidelines',\n",
       "       'Please Choose The Closest Area That Your Submission Falls Into',\n",
       "       'Full Review', 'embedding', 'Full Review_Processed', 'fine_topic',\n",
       "       'fine_probs', 'review_bertopic_topic_0', 'review_bertopic_topic_1',\n",
       "       'review_bertopic_topic_2', 'review_bertopic_topic_3',\n",
       "       'review_bertopic_topic_4', 'review_bertopic_topic_5',\n",
       "       'review_bertopic_topic_6', 'review_bertopic_topic_7',\n",
       "       'review_bertopic_topic_8', 'review_bertopic_topic_9',\n",
       "       'review_bertopic_topic_10', 'review_lda_topic_0', 'review_lda_topic_1',\n",
       "       'review_lda_topic_2', 'review_lda_topic_3', 'review_lda_topic_4',\n",
       "       'review_lda_topic_5', 'review_lda_topic_6', 'review_lda_topic_7',\n",
       "       'review_lda_topic_8', 'review_lda_topic_9', 'review_lda_topic_10',\n",
       "       'review_lda_topic_11', 'review_lda_topic_12', 'review_lda_topic_13'],\n",
       "      dtype='object')"
      ]
     },
     "execution_count": 45,
     "metadata": {},
     "output_type": "execute_result"
    }
   ],
   "source": [
    "review_df.columns"
   ]
  },
  {
   "cell_type": "code",
   "execution_count": 50,
   "metadata": {},
   "outputs": [],
   "source": [
    "clf = DecisionTreeClassifier()"
   ]
  },
  {
   "cell_type": "code",
   "execution_count": null,
   "metadata": {},
   "outputs": [],
   "source": [
    "clf.fit()"
   ]
  }
 ],
 "metadata": {
  "kernelspec": {
   "display_name": "Python 3",
   "language": "python",
   "name": "python3"
  },
  "language_info": {
   "codemirror_mode": {
    "name": "ipython",
    "version": 3
   },
   "file_extension": ".py",
   "mimetype": "text/x-python",
   "name": "python",
   "nbconvert_exporter": "python",
   "pygments_lexer": "ipython3",
   "version": "3.8.10"
  },
  "orig_nbformat": 4,
  "vscode": {
   "interpreter": {
    "hash": "767d51c1340bd893661ea55ea3124f6de3c7a262a8b4abca0554b478b1e2ff90"
   }
  }
 },
 "nbformat": 4,
 "nbformat_minor": 2
}
