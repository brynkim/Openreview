{
 "cells": [
  {
   "attachments": {},
   "cell_type": "markdown",
   "metadata": {},
   "source": [
    "ENVIRONMENT SETTING"
   ]
  },
  {
   "cell_type": "code",
   "execution_count": 10,
   "metadata": {},
   "outputs": [],
   "source": [
    "from selenium import webdriver\n",
    "from selenium.webdriver.common.by import By\n",
    "from selenium.webdriver.chrome.service import Service\n",
    "from webdriver_manager.chrome import ChromeDriverManager"
   ]
  },
  {
   "cell_type": "code",
   "execution_count": 11,
   "metadata": {},
   "outputs": [],
   "source": [
    "import pandas as pd"
   ]
  },
  {
   "cell_type": "code",
   "execution_count": 12,
   "metadata": {},
   "outputs": [],
   "source": [
    "import os\n",
    "import time\n",
    "import urllib\n",
    "from tqdm import tqdm, trange"
   ]
  },
  {
   "cell_type": "code",
   "execution_count": 13,
   "metadata": {},
   "outputs": [],
   "source": [
    "tqdm.pandas()"
   ]
  },
  {
   "cell_type": "code",
   "execution_count": 14,
   "metadata": {},
   "outputs": [],
   "source": [
    "options = webdriver.ChromeOptions()\n",
    "# options.add_argument('no-sandbox')\n",
    "# options.add_argument('headless')\n",
    "# options.add_argument('window-size=1920x1080')\n",
    "# options.add_argument('disable-gpu')"
   ]
  },
  {
   "attachments": {},
   "cell_type": "markdown",
   "metadata": {},
   "source": [
    "CRAWL REVIEWS"
   ]
  },
  {
   "cell_type": "code",
   "execution_count": 15,
   "metadata": {},
   "outputs": [],
   "source": [
    "filenames = os.listdir('./data/conferences/')"
   ]
  },
  {
   "cell_type": "code",
   "execution_count": null,
   "metadata": {},
   "outputs": [],
   "source": [
    "for filename in filenames:\n",
    "    conference_df = pd.read_csv(f'./data/conferences/{filename}', index_col = 0)\n",
    "\n",
    "    progress = tqdm(total = len(conference_df))\n",
    "    dfs = []\n",
    "    accept = 'accept' in filename\n",
    "\n",
    "    for title, link in conference_df.loc:\n",
    "        try:\n",
    "            driver = webdriver.Chrome(service = Service(executable_path = './driver/chromedriver'), options = options)\n",
    "            driver.get(link)\n",
    "            time.sleep(5)\n",
    "\n",
    "            data = {}\n",
    "\n",
    "            data['Paper Title'] = title\n",
    "            data['Paper Link'] = link\n",
    "            data['Accept'] = 'accept' in filename\n",
    "\n",
    "            metas = driver.find_elements(By.CSS_SELECTOR, 'div.forum-container > div.note > div.note_contents')\n",
    "            metadata = {meta.find_element(By.CSS_SELECTOR, 'span.note_content_field').text[:-1]: meta.find_element(By.CSS_SELECTOR, 'span.note_content_value').text for meta in metas}\n",
    "            \n",
    "            for k, v in metadata.items():\n",
    "                data[k] = v\n",
    "            \n",
    "            reviews = driver.find_elements(By.CSS_SELECTOR, 'div.note_with_children')\n",
    "\n",
    "            for review in reviews:\n",
    "                try:\n",
    "                    # driver.execute_script('arguments[0].scrollIntoView(true);', review)\n",
    "                    # time.sleep(1)\n",
    "\n",
    "                    data['Review Title'] = [x.text for x in review.find_elements(By.CSS_SELECTOR, 'div.note.panel > div.title_pdf_row > h2.note_content_title > span')][0]\n",
    "                    data['Review Signature'] = [x.text for x in review.find_elements(By.CSS_SELECTOR, 'div.note.panel > div.meta_row > span.signatures')][0]\n",
    "                    data['Review Date'] = [x.text for x in review.find_elements(By.CSS_SELECTOR, 'div.note.panel > div.clearfix > div.meta_row.pull-left > span.date.item')][0]\n",
    "                    data['Review Meta'] = [x.text for x in review.find_elements(By.CSS_SELECTOR, 'div.note.panel > div.clearfix > div.meta_row.pull-left > span.item:nth-child(2)')][0]\n",
    "                    data['Review Subtitles'] = [x.text[:-1] for x in review.find_elements(By.CSS_SELECTOR, 'div.note.panel > div.note_contents > span.note_content_field')][:len(review.find_elements(By.CSS_SELECTOR, 'div.note_contents')) - len(review.find_elements(By.CSS_SELECTOR, 'div.children div.note_contents')) + 1]\n",
    "                    data['Review Contents'] = [x.text for x in review.find_elements(By.CSS_SELECTOR, 'div.note.panel > div.note_contents > span.note_content_value')][:len(review.find_elements(By.CSS_SELECTOR, 'div.note_contents')) - len(review.find_elements(By.CSS_SELECTOR, 'div.children div.note_contents')) + 1]\n",
    "                    \n",
    "                    dfs.append(pd.DataFrame({k: pd.Series([v]) for k,v in data.items()}))\n",
    "                except Exception as e:\n",
    "                    break\n",
    "        except Exception as e:\n",
    "            break\n",
    "        finally:\n",
    "            driver.close()\n",
    "            progress.update(1)\n",
    "    break"
   ]
  },
  {
   "cell_type": "code",
   "execution_count": 8,
   "metadata": {},
   "outputs": [],
   "source": [
    "df = pd.concat(dfs).reset_index(drop = True)"
   ]
  },
  {
   "cell_type": "code",
   "execution_count": null,
   "metadata": {},
   "outputs": [],
   "source": [
    "conference_df.loc[0]"
   ]
  }
 ],
 "metadata": {
  "kernelspec": {
   "display_name": "base",
   "language": "python",
   "name": "python3"
  },
  "language_info": {
   "codemirror_mode": {
    "name": "ipython",
    "version": 3
   },
   "file_extension": ".py",
   "mimetype": "text/x-python",
   "name": "python",
   "nbconvert_exporter": "python",
   "pygments_lexer": "ipython3",
   "version": "3.9.16"
  },
  "orig_nbformat": 4
 },
 "nbformat": 4,
 "nbformat_minor": 2
}
