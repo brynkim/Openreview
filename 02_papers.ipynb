{
 "cells": [
  {
   "attachments": {},
   "cell_type": "markdown",
   "metadata": {},
   "source": [
    "ENVIRONMENT SETTING"
   ]
  },
  {
   "cell_type": "code",
   "execution_count": 1,
   "metadata": {},
   "outputs": [],
   "source": [
    "from selenium import webdriver\n",
    "from selenium.webdriver.common.by import By\n",
    "from selenium.webdriver.chrome.service import Service\n",
    "from webdriver_manager.chrome import ChromeDriverManager"
   ]
  },
  {
   "cell_type": "code",
   "execution_count": 1,
   "metadata": {},
   "outputs": [],
   "source": [
    "import pandas as pd"
   ]
  },
  {
   "cell_type": "code",
   "execution_count": 3,
   "metadata": {},
   "outputs": [],
   "source": [
    "import os\n",
    "import time\n",
    "import urllib\n",
    "from tqdm import tqdm, trange"
   ]
  },
  {
   "cell_type": "code",
   "execution_count": 4,
   "metadata": {},
   "outputs": [],
   "source": [
    "tqdm.pandas()"
   ]
  },
  {
   "cell_type": "code",
   "execution_count": 5,
   "metadata": {},
   "outputs": [],
   "source": [
    "options = webdriver.ChromeOptions()\n",
    "# options.add_argument('no-sandbox')\n",
    "# options.add_argument('headless')\n",
    "# options.add_argument('window-size=1920x1080')\n",
    "# options.add_argument('disable-gpu')"
   ]
  },
  {
   "cell_type": "code",
   "execution_count": 6,
   "metadata": {},
   "outputs": [
    {
     "name": "stderr",
     "output_type": "stream",
     "text": [
      "[WDM] - Downloading: 100%|██████████| 7.40M/7.40M [00:00<00:00, 25.6MB/s]\n"
     ]
    }
   ],
   "source": [
    "driver = webdriver.Chrome(service = Service(ChromeDriverManager().install()), options = options)"
   ]
  },
  {
   "attachments": {},
   "cell_type": "markdown",
   "metadata": {},
   "source": [
    "GET LINK"
   ]
  },
  {
   "cell_type": "code",
   "execution_count": 7,
   "metadata": {},
   "outputs": [],
   "source": [
    "conference_dfs = []"
   ]
  },
  {
   "cell_type": "code",
   "execution_count": 8,
   "metadata": {},
   "outputs": [
    {
     "name": "stderr",
     "output_type": "stream",
     "text": [
      "100%|██████████| 7/7 [00:00<00:00, 167.38it/s]\n"
     ]
    }
   ],
   "source": [
    "for filename in tqdm(os.listdir('./data/conferences/')):\n",
    "    conference_dfs.append(pd.read_csv(f'./data/conferences/{filename}', index_col = 0))"
   ]
  },
  {
   "cell_type": "code",
   "execution_count": 9,
   "metadata": {},
   "outputs": [],
   "source": [
    "conference_df = pd.concat(conference_dfs).reset_index(drop = True)"
   ]
  },
  {
   "cell_type": "code",
   "execution_count": 10,
   "metadata": {},
   "outputs": [
    {
     "data": {
      "text/html": [
       "<div>\n",
       "<style scoped>\n",
       "    .dataframe tbody tr th:only-of-type {\n",
       "        vertical-align: middle;\n",
       "    }\n",
       "\n",
       "    .dataframe tbody tr th {\n",
       "        vertical-align: top;\n",
       "    }\n",
       "\n",
       "    .dataframe thead th {\n",
       "        text-align: right;\n",
       "    }\n",
       "</style>\n",
       "<table border=\"1\" class=\"dataframe\">\n",
       "  <thead>\n",
       "    <tr style=\"text-align: right;\">\n",
       "      <th></th>\n",
       "      <th>title</th>\n",
       "      <th>link</th>\n",
       "    </tr>\n",
       "  </thead>\n",
       "  <tbody>\n",
       "    <tr>\n",
       "      <th>0</th>\n",
       "      <td>Context-enriched molecule representations impr...</td>\n",
       "      <td>https://openreview.net/forum?id=kXXPLBEBVGH</td>\n",
       "    </tr>\n",
       "    <tr>\n",
       "      <th>1</th>\n",
       "      <td>The Slingshot Mechanism: An Empirical Study of...</td>\n",
       "      <td>https://openreview.net/forum?id=dJgYhYKvr1</td>\n",
       "    </tr>\n",
       "    <tr>\n",
       "      <th>2</th>\n",
       "      <td>Evident: a Development Methodology and a Knowl...</td>\n",
       "      <td>https://openreview.net/forum?id=_1bgdFHhA70</td>\n",
       "    </tr>\n",
       "    <tr>\n",
       "      <th>3</th>\n",
       "      <td>Efficient Sequence Packing without Cross-conta...</td>\n",
       "      <td>https://openreview.net/forum?id=e2M4CNa-UOS</td>\n",
       "    </tr>\n",
       "    <tr>\n",
       "      <th>4</th>\n",
       "      <td>Uniqueness and Complexity of Inverse MDP Models</td>\n",
       "      <td>https://openreview.net/forum?id=QYhUhMOI4C</td>\n",
       "    </tr>\n",
       "    <tr>\n",
       "      <th>...</th>\n",
       "      <td>...</td>\n",
       "      <td>...</td>\n",
       "    </tr>\n",
       "    <tr>\n",
       "      <th>9133</th>\n",
       "      <td>Transfer Learning for Estimating Causal Effect...</td>\n",
       "      <td>https://openreview.net/forum?id=ByzoVi0cFQ</td>\n",
       "    </tr>\n",
       "    <tr>\n",
       "      <th>9134</th>\n",
       "      <td>Generative Model For Material Irradiation Expe...</td>\n",
       "      <td>https://openreview.net/forum?id=Byg54oC5tQ</td>\n",
       "    </tr>\n",
       "    <tr>\n",
       "      <th>9135</th>\n",
       "      <td>Linearizing Visual Processes with Deep Generat...</td>\n",
       "      <td>https://openreview.net/forum?id=SkMPNoCcKQ</td>\n",
       "    </tr>\n",
       "    <tr>\n",
       "      <th>9136</th>\n",
       "      <td>NaN</td>\n",
       "      <td>https://openreview.net/forum?id=SkgD4jAcYX</td>\n",
       "    </tr>\n",
       "    <tr>\n",
       "      <th>9137</th>\n",
       "      <td>Nesterov's method is the discretization of a d...</td>\n",
       "      <td>https://openreview.net/forum?id=HJMINj05tQ</td>\n",
       "    </tr>\n",
       "  </tbody>\n",
       "</table>\n",
       "<p>9138 rows × 2 columns</p>\n",
       "</div>"
      ],
      "text/plain": [
       "                                                  title  \\\n",
       "0     Context-enriched molecule representations impr...   \n",
       "1     The Slingshot Mechanism: An Empirical Study of...   \n",
       "2     Evident: a Development Methodology and a Knowl...   \n",
       "3     Efficient Sequence Packing without Cross-conta...   \n",
       "4       Uniqueness and Complexity of Inverse MDP Models   \n",
       "...                                                 ...   \n",
       "9133  Transfer Learning for Estimating Causal Effect...   \n",
       "9134  Generative Model For Material Irradiation Expe...   \n",
       "9135  Linearizing Visual Processes with Deep Generat...   \n",
       "9136                                                NaN   \n",
       "9137  Nesterov's method is the discretization of a d...   \n",
       "\n",
       "                                             link  \n",
       "0     https://openreview.net/forum?id=kXXPLBEBVGH  \n",
       "1      https://openreview.net/forum?id=dJgYhYKvr1  \n",
       "2     https://openreview.net/forum?id=_1bgdFHhA70  \n",
       "3     https://openreview.net/forum?id=e2M4CNa-UOS  \n",
       "4      https://openreview.net/forum?id=QYhUhMOI4C  \n",
       "...                                           ...  \n",
       "9133   https://openreview.net/forum?id=ByzoVi0cFQ  \n",
       "9134   https://openreview.net/forum?id=Byg54oC5tQ  \n",
       "9135   https://openreview.net/forum?id=SkMPNoCcKQ  \n",
       "9136   https://openreview.net/forum?id=SkgD4jAcYX  \n",
       "9137   https://openreview.net/forum?id=HJMINj05tQ  \n",
       "\n",
       "[9138 rows x 2 columns]"
      ]
     },
     "execution_count": 10,
     "metadata": {},
     "output_type": "execute_result"
    }
   ],
   "source": [
    "conference_df"
   ]
  },
  {
   "attachments": {},
   "cell_type": "markdown",
   "metadata": {},
   "source": [
    "CRAWL REVIEWS"
   ]
  },
  {
   "cell_type": "code",
   "execution_count": 11,
   "metadata": {},
   "outputs": [
    {
     "name": "stderr",
     "output_type": "stream",
     "text": [
      "  0%|          | 0/9138 [00:00<?, ?it/s]"
     ]
    }
   ],
   "source": [
    "progress = tqdm(total = len(conference_df))\n",
    "dfs = []"
   ]
  },
  {
   "cell_type": "code",
   "execution_count": null,
   "metadata": {},
   "outputs": [],
   "source": [
    "for title, link in conference_df.loc:\n",
    "    try:\n",
    "        driver.get(link)\n",
    "        time.sleep(5)\n",
    "\n",
    "        reviews = driver.find_elements(By.CSS_SELECTOR, 'div.note_with_children')\n",
    "\n",
    "        for review in reviews:\n",
    "            try:\n",
    "                review_source = title\n",
    "                review_link = link\n",
    "                review_title = [x.text for x in review.find_elements(By.CSS_SELECTOR, 'div.title_pdf_row > h2.note_content_title > span')][0]\n",
    "                review_signature = [x.text for x in review.find_elements(By.CSS_SELECTOR, 'span.signatures')][0]\n",
    "                review_date = [x.text for x in review.find_elements(By.CSS_SELECTOR, 'span.date.item')][0]\n",
    "                review_meta = [x.text for x in review.find_elements(By.CSS_SELECTOR, 'div.meta_row.pull-left > span.item:nth-child(2)')][0]\n",
    "                review_subtitles = [x.text[:-1] for x in review.find_elements(By.CSS_SELECTOR, 'div.note_contents > span.note_content_field')][:len(review.find_elements(By.CSS_SELECTOR, 'div.note_contents > span.note_content_field')) - len(review.find_elements(By.CSS_SELECTOR, 'div.children div.note_contents')) + 1]\n",
    "                review_contents = [x.text for x in review.find_elements(By.CSS_SELECTOR, 'div.note_contents > span.note_content_value')][:len(review.find_elements(By.CSS_SELECTOR, 'div.note_contents > span.note_content_field')) - len(review.find_elements(By.CSS_SELECTOR, 'div.children div.note_contents')) + 1]\n",
    "\n",
    "                dfs.append(pd.DataFrame(data = {'source': review_source, 'link': review_link, 'title': review_title, 'signature': review_signature, 'date': review_date, 'meta': review_meta, 'subtitles': review_subtitles, 'contents': review_contents}))\n",
    "            except:\n",
    "                continue\n",
    "    except:\n",
    "        continue\n",
    "    \n",
    "    progress.update(1)"
   ]
  },
  {
   "cell_type": "code",
   "execution_count": 13,
   "metadata": {},
   "outputs": [
    {
     "data": {
      "text/plain": [
       "102543"
      ]
     },
     "execution_count": 13,
     "metadata": {},
     "output_type": "execute_result"
    }
   ],
   "source": [
    "len(dfs)"
   ]
  },
  {
   "cell_type": "code",
   "execution_count": 14,
   "metadata": {},
   "outputs": [
    {
     "data": {
      "text/plain": [
       "328743"
      ]
     },
     "execution_count": 14,
     "metadata": {},
     "output_type": "execute_result"
    }
   ],
   "source": [
    "len(df)"
   ]
  },
  {
   "cell_type": "code",
   "execution_count": 16,
   "metadata": {},
   "outputs": [],
   "source": [
    "for i in range(int(len(df) / 50000) + 1):\n",
    "    df.loc[50000 * i:50000 * (i + 1) - 1].reset_index(drop = True).to_csv(f'./data/papers/review{i + 1}.csv')"
   ]
  },
  {
   "cell_type": "code",
   "execution_count": 13,
   "metadata": {},
   "outputs": [
    {
     "name": "stdout",
     "output_type": "stream",
     "text": [
      "0\n",
      "1\n",
      "2\n",
      "3\n",
      "4\n",
      "5\n",
      "6\n"
     ]
    }
   ],
   "source": [
    "for i in range(int(len(df) / 50000) + 1):\n",
    "    print(i)"
   ]
  },
  {
   "cell_type": "code",
   "execution_count": 17,
   "metadata": {},
   "outputs": [],
   "source": [
    "import os"
   ]
  },
  {
   "cell_type": "code",
   "execution_count": 18,
   "metadata": {},
   "outputs": [],
   "source": [
    "dffs = []"
   ]
  },
  {
   "cell_type": "code",
   "execution_count": 19,
   "metadata": {},
   "outputs": [],
   "source": [
    "for filename in os.listdir('./data/papers'):\n",
    "    dffs.append(pd.read_csv(f'./data/papers/{filename}', index_col = 0))"
   ]
  },
  {
   "cell_type": "code",
   "execution_count": 20,
   "metadata": {},
   "outputs": [],
   "source": [
    "dff = pd.concat(dffs).reset_index()"
   ]
  },
  {
   "cell_type": "code",
   "execution_count": 23,
   "metadata": {},
   "outputs": [
    {
     "data": {
      "text/html": [
       "<div>\n",
       "<style scoped>\n",
       "    .dataframe tbody tr th:only-of-type {\n",
       "        vertical-align: middle;\n",
       "    }\n",
       "\n",
       "    .dataframe tbody tr th {\n",
       "        vertical-align: top;\n",
       "    }\n",
       "\n",
       "    .dataframe thead th {\n",
       "        text-align: right;\n",
       "    }\n",
       "</style>\n",
       "<table border=\"1\" class=\"dataframe\">\n",
       "  <thead>\n",
       "    <tr style=\"text-align: right;\">\n",
       "      <th></th>\n",
       "      <th>index</th>\n",
       "      <th>link</th>\n",
       "      <th>title</th>\n",
       "      <th>signature</th>\n",
       "      <th>date</th>\n",
       "      <th>meta</th>\n",
       "      <th>subtitles</th>\n",
       "      <th>contents</th>\n",
       "    </tr>\n",
       "    <tr>\n",
       "      <th>source</th>\n",
       "      <th></th>\n",
       "      <th></th>\n",
       "      <th></th>\n",
       "      <th></th>\n",
       "      <th></th>\n",
       "      <th></th>\n",
       "      <th></th>\n",
       "      <th></th>\n",
       "    </tr>\n",
       "  </thead>\n",
       "  <tbody>\n",
       "    <tr>\n",
       "      <th>\"Hey, that's not an ODE'\": Faster ODE Adjoints with 12 Lines of Code</th>\n",
       "      <td>27</td>\n",
       "      <td>27</td>\n",
       "      <td>27</td>\n",
       "      <td>27</td>\n",
       "      <td>27</td>\n",
       "      <td>27</td>\n",
       "      <td>27</td>\n",
       "      <td>27</td>\n",
       "    </tr>\n",
       "    <tr>\n",
       "      <th>$$CONVOLUTION AND POOLING OPERATION MODULE WITH ADAPTIVE STRIDE PROCESSING EFFEC$$</th>\n",
       "      <td>34</td>\n",
       "      <td>34</td>\n",
       "      <td>34</td>\n",
       "      <td>34</td>\n",
       "      <td>34</td>\n",
       "      <td>34</td>\n",
       "      <td>34</td>\n",
       "      <td>33</td>\n",
       "    </tr>\n",
       "    <tr>\n",
       "      <th>$G^3$: Representation Learning and Generation for Geometric Graphs</th>\n",
       "      <td>51</td>\n",
       "      <td>51</td>\n",
       "      <td>51</td>\n",
       "      <td>51</td>\n",
       "      <td>51</td>\n",
       "      <td>51</td>\n",
       "      <td>51</td>\n",
       "      <td>51</td>\n",
       "    </tr>\n",
       "    <tr>\n",
       "      <th>$Q$-learning with regularization converges with non-linear non-stationary features</th>\n",
       "      <td>41</td>\n",
       "      <td>41</td>\n",
       "      <td>41</td>\n",
       "      <td>41</td>\n",
       "      <td>41</td>\n",
       "      <td>41</td>\n",
       "      <td>41</td>\n",
       "      <td>40</td>\n",
       "    </tr>\n",
       "    <tr>\n",
       "      <th>$\\Delta$-PINNs: physics-informed neural networks on complex geometries</th>\n",
       "      <td>42</td>\n",
       "      <td>42</td>\n",
       "      <td>42</td>\n",
       "      <td>42</td>\n",
       "      <td>42</td>\n",
       "      <td>42</td>\n",
       "      <td>42</td>\n",
       "      <td>41</td>\n",
       "    </tr>\n",
       "    <tr>\n",
       "      <th>...</th>\n",
       "      <td>...</td>\n",
       "      <td>...</td>\n",
       "      <td>...</td>\n",
       "      <td>...</td>\n",
       "      <td>...</td>\n",
       "      <td>...</td>\n",
       "      <td>...</td>\n",
       "      <td>...</td>\n",
       "    </tr>\n",
       "    <tr>\n",
       "      <th>xTrimoABFold: Improving Antibody Structure Prediction without Multiple Sequence Alignments</th>\n",
       "      <td>45</td>\n",
       "      <td>45</td>\n",
       "      <td>45</td>\n",
       "      <td>45</td>\n",
       "      <td>45</td>\n",
       "      <td>45</td>\n",
       "      <td>45</td>\n",
       "      <td>44</td>\n",
       "    </tr>\n",
       "    <tr>\n",
       "      <th>{COMPANYNAME}11K: An Unsupervised Representation Learning Dataset for Arrhythmia Subtype Discovery</th>\n",
       "      <td>21</td>\n",
       "      <td>21</td>\n",
       "      <td>21</td>\n",
       "      <td>21</td>\n",
       "      <td>21</td>\n",
       "      <td>21</td>\n",
       "      <td>21</td>\n",
       "      <td>19</td>\n",
       "    </tr>\n",
       "    <tr>\n",
       "      <th>α\\nVIL: Learning to Leverage Auxiliary Tasks for Multitask Learning</th>\n",
       "      <td>18</td>\n",
       "      <td>18</td>\n",
       "      <td>18</td>\n",
       "      <td>18</td>\n",
       "      <td>18</td>\n",
       "      <td>18</td>\n",
       "      <td>18</td>\n",
       "      <td>18</td>\n",
       "    </tr>\n",
       "    <tr>\n",
       "      <th>α\\nα\\n-Rank: Scalable Multi-agent Evaluation through Evolution</th>\n",
       "      <td>1</td>\n",
       "      <td>1</td>\n",
       "      <td>1</td>\n",
       "      <td>1</td>\n",
       "      <td>1</td>\n",
       "      <td>1</td>\n",
       "      <td>1</td>\n",
       "      <td>1</td>\n",
       "    </tr>\n",
       "    <tr>\n",
       "      <th>ℓ\\n1\\nAdversarial Robustness Certificates: a Randomized Smoothing Approach</th>\n",
       "      <td>34</td>\n",
       "      <td>34</td>\n",
       "      <td>34</td>\n",
       "      <td>34</td>\n",
       "      <td>34</td>\n",
       "      <td>34</td>\n",
       "      <td>34</td>\n",
       "      <td>34</td>\n",
       "    </tr>\n",
       "  </tbody>\n",
       "</table>\n",
       "<p>9049 rows × 8 columns</p>\n",
       "</div>"
      ],
      "text/plain": [
       "                                                    index  link  title  \\\n",
       "source                                                                   \n",
       "\"Hey, that's not an ODE'\": Faster ODE Adjoints ...     27    27     27   \n",
       "$$CONVOLUTION AND POOLING OPERATION MODULE WITH...     34    34     34   \n",
       "$G^3$: Representation Learning and Generation f...     51    51     51   \n",
       "$Q$-learning with regularization converges with...     41    41     41   \n",
       "$\\Delta$-PINNs: physics-informed neural network...     42    42     42   \n",
       "...                                                   ...   ...    ...   \n",
       "xTrimoABFold: Improving Antibody Structure Pred...     45    45     45   \n",
       "{COMPANYNAME}11K: An Unsupervised Representatio...     21    21     21   \n",
       "α\\nVIL: Learning to Leverage Auxiliary Tasks fo...     18    18     18   \n",
       "α\\nα\\n-Rank: Scalable Multi-agent Evaluation th...      1     1      1   \n",
       "ℓ\\n1\\nAdversarial Robustness Certificates: a Ra...     34    34     34   \n",
       "\n",
       "                                                    signature  date  meta  \\\n",
       "source                                                                      \n",
       "\"Hey, that's not an ODE'\": Faster ODE Adjoints ...         27    27    27   \n",
       "$$CONVOLUTION AND POOLING OPERATION MODULE WITH...         34    34    34   \n",
       "$G^3$: Representation Learning and Generation f...         51    51    51   \n",
       "$Q$-learning with regularization converges with...         41    41    41   \n",
       "$\\Delta$-PINNs: physics-informed neural network...         42    42    42   \n",
       "...                                                       ...   ...   ...   \n",
       "xTrimoABFold: Improving Antibody Structure Pred...         45    45    45   \n",
       "{COMPANYNAME}11K: An Unsupervised Representatio...         21    21    21   \n",
       "α\\nVIL: Learning to Leverage Auxiliary Tasks fo...         18    18    18   \n",
       "α\\nα\\n-Rank: Scalable Multi-agent Evaluation th...          1     1     1   \n",
       "ℓ\\n1\\nAdversarial Robustness Certificates: a Ra...         34    34    34   \n",
       "\n",
       "                                                    subtitles  contents  \n",
       "source                                                                   \n",
       "\"Hey, that's not an ODE'\": Faster ODE Adjoints ...         27        27  \n",
       "$$CONVOLUTION AND POOLING OPERATION MODULE WITH...         34        33  \n",
       "$G^3$: Representation Learning and Generation f...         51        51  \n",
       "$Q$-learning with regularization converges with...         41        40  \n",
       "$\\Delta$-PINNs: physics-informed neural network...         42        41  \n",
       "...                                                       ...       ...  \n",
       "xTrimoABFold: Improving Antibody Structure Pred...         45        44  \n",
       "{COMPANYNAME}11K: An Unsupervised Representatio...         21        19  \n",
       "α\\nVIL: Learning to Leverage Auxiliary Tasks fo...         18        18  \n",
       "α\\nα\\n-Rank: Scalable Multi-agent Evaluation th...          1         1  \n",
       "ℓ\\n1\\nAdversarial Robustness Certificates: a Ra...         34        34  \n",
       "\n",
       "[9049 rows x 8 columns]"
      ]
     },
     "execution_count": 23,
     "metadata": {},
     "output_type": "execute_result"
    }
   ],
   "source": [
    "dff.groupby('source').count()"
   ]
  },
  {
   "cell_type": "code",
   "execution_count": null,
   "metadata": {},
   "outputs": [],
   "source": []
  }
 ],
 "metadata": {
  "kernelspec": {
   "display_name": "base",
   "language": "python",
   "name": "python3"
  },
  "language_info": {
   "codemirror_mode": {
    "name": "ipython",
    "version": 3
   },
   "file_extension": ".py",
   "mimetype": "text/x-python",
   "name": "python",
   "nbconvert_exporter": "python",
   "pygments_lexer": "ipython3",
   "version": "3.9.16"
  },
  "orig_nbformat": 4
 },
 "nbformat": 4,
 "nbformat_minor": 2
}
