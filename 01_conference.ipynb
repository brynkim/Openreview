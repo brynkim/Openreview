{
 "cells": [
  {
   "attachments": {},
   "cell_type": "markdown",
   "metadata": {},
   "source": [
    "ENVIRONMENT SETTING"
   ]
  },
  {
   "cell_type": "code",
   "execution_count": 1,
   "metadata": {},
   "outputs": [],
   "source": [
    "from selenium import webdriver\n",
    "from selenium.webdriver.common.by import By\n",
    "from selenium.webdriver.chrome.service import Service\n",
    "from webdriver_manager.chrome import ChromeDriverManager"
   ]
  },
  {
   "cell_type": "code",
   "execution_count": 2,
   "metadata": {},
   "outputs": [],
   "source": [
    "import pandas as pd"
   ]
  },
  {
   "cell_type": "code",
   "execution_count": 3,
   "metadata": {},
   "outputs": [],
   "source": [
    "import time\n",
    "import urllib\n",
    "from tqdm import tqdm, trange"
   ]
  },
  {
   "cell_type": "code",
   "execution_count": 4,
   "metadata": {},
   "outputs": [],
   "source": [
    "tqdm.pandas()"
   ]
  },
  {
   "cell_type": "code",
   "execution_count": 5,
   "metadata": {},
   "outputs": [],
   "source": [
    "options = webdriver.ChromeOptions()\n",
    "# options.add_argument('no-sandbox')\n",
    "# options.add_argument('headless')\n",
    "# options.add_argument('window-size=1920x1080')\n",
    "# options.add_argument('disable-gpu')"
   ]
  },
  {
   "attachments": {},
   "cell_type": "markdown",
   "metadata": {},
   "source": [
    "GET LINK"
   ]
  },
  {
   "cell_type": "code",
   "execution_count": 6,
   "metadata": {},
   "outputs": [],
   "source": [
    "# NeurIPS 2019는 딱히 데이터가 느낌있게 나와주지 않음.\n",
    "\n",
    "accepted_links_sets = [\n",
    "    [                                                                                               ##### ICLR 2023\n",
    "        'https://openreview.net/group?id=ICLR.cc/2023/Conference#notable-top-5-',                   # Notable 5% (Accepted)\n",
    "        'https://openreview.net/group?id=ICLR.cc/2023/Conference#notable-top-25-',                  # Notable 25% (Accepted)\n",
    "        'https://openreview.net/group?id=ICLR.cc/2023/Conference#poster',                           # Paper (Accepted)\n",
    "    ],\n",
    "    [                                                                                               ##### ICLR 2022\n",
    "        'https://openreview.net/group?id=ICLR.cc/2022/Conference#oral-submissions',                 # Oral Presentations (Accepted)\n",
    "        'https://openreview.net/group?id=ICLR.cc/2022/Conference#spotlight-submissions',            # Spotlight Presentations (Accepted)\n",
    "        'https://openreview.net/group?id=ICLR.cc/2022/Conference#poster-submissions',               # Poster Presentations (Accepted)\n",
    "    ],\n",
    "    [                                                                                               ##### ICLR 2021\n",
    "        'https://openreview.net/group?id=ICLR.cc/2021/Conference#oral-presentations',               # Oral Presentations (Accepted)\n",
    "        'https://openreview.net/group?id=ICLR.cc/2021/Conference#spotlight-presentations',          # Spotlight Presentations (Accepted)\n",
    "        'https://openreview.net/group?id=ICLR.cc/2021/Conference#poster-presentations',             # Poster Presentations (Accepted)\n",
    "    ],\n",
    "    [                                                                                               ##### ICLR 2020\n",
    "        'https://openreview.net/group?id=ICLR.cc/2020/Conference#poster-presentations',             # Poster Presentations (Accepted)\n",
    "        'https://openreview.net/group?id=ICLR.cc/2020/Conference#spotlight-presentations',          # Spotlight Presentations (Accepted)\n",
    "        'https://openreview.net/group?id=ICLR.cc/2020/Conference#oral-presentations',               # Oral Presentations (Accepted)\n",
    "    ],\n",
    "    [                                                                                               ##### ICLR 2019\n",
    "        'https://openreview.net/group?id=ICLR.cc/2019/Conference#poster-presentations',             # Poster Presentations (Accepted)\n",
    "        'https://openreview.net/group?id=ICLR.cc/2019/Conference#oral-presentations',               # Oral Presentations (Accepted)\n",
    "    ]\n",
    "]\n",
    "\n",
    "rejected_links = [\n",
    "    'https://openreview.net/group?id=ICLR.cc/2023/Conference#submitted',                            # ICLR 2023\n",
    "    'https://openreview.net/group?id=ICLR.cc/2022/Conference#submitted-submissions',                # ICLR 2022\n",
    "    'https://openreview.net/group?id=ICLR.cc/2021/Conference#withdrawn-rejected-submissions',       # ICLR 2021\n",
    "    'https://openreview.net/group?id=ICLR.cc/2020/Conference#withdrawn-rejected-submissions',       # ICLR 2020\n",
    "    'https://openreview.net/group?id=ICLR.cc/2019/Conference#withdrawn-rejected-submissions',       # ICLR 2019\n",
    "]\n",
    "\n",
    "conference_names = [\n",
    "    'ICLR_2023',\n",
    "    'ICLR_2022',\n",
    "    'ICLR_2021',\n",
    "    'ICLR_2020',\n",
    "    'ICLR_2019',\n",
    "    # 'NeurIPS_2022',\n",
    "    # 'NeurIPS_2021',\n",
    "]"
   ]
  },
  {
   "cell_type": "code",
   "execution_count": 7,
   "metadata": {},
   "outputs": [],
   "source": [
    "def collect_links(link):\n",
    "    df = pd.DataFrame(columns = ['title', 'link'])\n",
    "    \n",
    "    driver = webdriver.Chrome(service = Service(executable_path = './driver/chromedriver'), options = options)\n",
    "    time.sleep(5)\n",
    "    driver.get(link)\n",
    "    while len(driver.find_elements(By.CSS_SELECTOR, 'li.note h4 a')) == 0:\n",
    "        time.sleep(1)\n",
    "\n",
    "    try:\n",
    "        num_pages = int([button for button in driver.find_elements(By.CSS_SELECTOR, 'nav > ul.pagination > li') if button.text == '»'][0].get_attribute('data-page-number'))\n",
    "    except:\n",
    "        num_pages = 1\n",
    "\n",
    "    for page in trange(num_pages):\n",
    "        # Get New Paper Lists\n",
    "        new_papers = pd.DataFrame(data = [{'title': x.text, 'link': x.get_attribute('href')} for x in driver.find_elements(By.CSS_SELECTOR, 'li.note h4 a') if x.text != ''])\n",
    "        df = pd.concat([df, new_papers]).reset_index(drop = True)\n",
    "\n",
    "        # Click Next Button\n",
    "        if page < num_pages - 1:\n",
    "            [button for button in driver.find_elements(By.CSS_SELECTOR, 'nav > ul.pagination > li > a') if button.text == '›'][0].click()\n",
    "\n",
    "        # Sleep\n",
    "        time.sleep(10)\n",
    "\n",
    "    driver.close()\n",
    "    return df"
   ]
  },
  {
   "cell_type": "code",
   "execution_count": 9,
   "metadata": {},
   "outputs": [
    {
     "name": "stdout",
     "output_type": "stream",
     "text": [
      "Crawling from ICLR_2023\n",
      "-----------------------\n",
      "- Accept Link: https://openreview.net/group?id=ICLR.cc/2023/Conference#notable-top-5-\n"
     ]
    },
    {
     "name": "stderr",
     "output_type": "stream",
     "text": [
      "100%|██████████| 4/4 [00:46<00:00, 11.66s/it]\n"
     ]
    },
    {
     "name": "stdout",
     "output_type": "stream",
     "text": [
      "- Accept Link: https://openreview.net/group?id=ICLR.cc/2023/Conference#notable-top-25-\n"
     ]
    },
    {
     "name": "stderr",
     "output_type": "stream",
     "text": [
      "100%|██████████| 12/12 [02:19<00:00, 11.66s/it]\n"
     ]
    },
    {
     "name": "stdout",
     "output_type": "stream",
     "text": [
      "- Accept Link: https://openreview.net/group?id=ICLR.cc/2023/Conference#poster\n"
     ]
    },
    {
     "name": "stderr",
     "output_type": "stream",
     "text": [
      "100%|██████████| 49/49 [09:32<00:00, 11.69s/it]\n"
     ]
    },
    {
     "name": "stdout",
     "output_type": "stream",
     "text": [
      "- Reject Link: https://openreview.net/group?id=ICLR.cc/2023/Conference#submitted\n"
     ]
    },
    {
     "name": "stderr",
     "output_type": "stream",
     "text": [
      "100%|██████████| 90/90 [17:31<00:00, 11.68s/it]\n"
     ]
    },
    {
     "name": "stdout",
     "output_type": "stream",
     "text": [
      "\n"
     ]
    }
   ],
   "source": [
    "for name, accept_links, reject_link in zip(conference_names, accepted_links_sets, rejected_links):\n",
    "    print(f'Crawling from {name}')\n",
    "    print('-----------------------')\n",
    "    \n",
    "    accept_df = pd.DataFrame(columns = ['title', 'link'])\n",
    "\n",
    "    for accept_link in accept_links:\n",
    "        print(f'- Accept Link: {accept_link}')\n",
    "        accept_df = pd.concat([accept_df, collect_links(accept_link)], axis = 0)\n",
    "    \n",
    "    print(f'- Reject Link: {reject_link}')\n",
    "    reject_df = collect_links(reject_link)\n",
    "\n",
    "    print()\n",
    "    break"
   ]
  },
  {
   "cell_type": "code",
   "execution_count": 12,
   "metadata": {},
   "outputs": [],
   "source": [
    "accept_df.reset_index(drop = True).to_csv('./sample_accept.csv')"
   ]
  },
  {
   "cell_type": "code",
   "execution_count": 13,
   "metadata": {},
   "outputs": [],
   "source": [
    "reject_df.reset_index(drop = True).to_csv('./sample_reject.csv')"
   ]
  },
  {
   "cell_type": "code",
   "execution_count": null,
   "metadata": {},
   "outputs": [],
   "source": []
  }
 ],
 "metadata": {
  "kernelspec": {
   "display_name": "base",
   "language": "python",
   "name": "python3"
  },
  "language_info": {
   "codemirror_mode": {
    "name": "ipython",
    "version": 3
   },
   "file_extension": ".py",
   "mimetype": "text/x-python",
   "name": "python",
   "nbconvert_exporter": "python",
   "pygments_lexer": "ipython3",
   "version": "3.9.16"
  },
  "orig_nbformat": 4
 },
 "nbformat": 4,
 "nbformat_minor": 2
}
