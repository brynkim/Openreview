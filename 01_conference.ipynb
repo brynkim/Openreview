{
 "cells": [
  {
   "attachments": {},
   "cell_type": "markdown",
   "metadata": {},
   "source": [
    "ENVIRONMENT SETTING"
   ]
  },
  {
   "cell_type": "code",
   "execution_count": 1,
   "metadata": {},
   "outputs": [],
   "source": [
    "from selenium import webdriver\n",
    "from selenium.webdriver.common.by import By\n",
    "from selenium.webdriver.chrome.service import Service\n",
    "from webdriver_manager.chrome import ChromeDriverManager"
   ]
  },
  {
   "cell_type": "code",
   "execution_count": 2,
   "metadata": {},
   "outputs": [],
   "source": [
    "import pandas as pd"
   ]
  },
  {
   "cell_type": "code",
   "execution_count": 3,
   "metadata": {},
   "outputs": [],
   "source": [
    "import time\n",
    "import urllib\n",
    "from tqdm import tqdm, trange"
   ]
  },
  {
   "cell_type": "code",
   "execution_count": 4,
   "metadata": {},
   "outputs": [],
   "source": [
    "tqdm.pandas()"
   ]
  },
  {
   "cell_type": "code",
   "execution_count": 5,
   "metadata": {},
   "outputs": [],
   "source": [
    "options = webdriver.ChromeOptions()\n",
    "# options.add_argument('no-sandbox')\n",
    "# options.add_argument('headless')\n",
    "# options.add_argument('window-size=1920x1080')\n",
    "# options.add_argument('disable-gpu')"
   ]
  },
  {
   "cell_type": "code",
   "execution_count": 6,
   "metadata": {},
   "outputs": [],
   "source": [
    "driver = webdriver.Chrome(service = Service(ChromeDriverManager().install()), options = options)"
   ]
  },
  {
   "attachments": {},
   "cell_type": "markdown",
   "metadata": {},
   "source": [
    "GET LINK"
   ]
  },
  {
   "cell_type": "code",
   "execution_count": 7,
   "metadata": {},
   "outputs": [],
   "source": [
    "# NeurIPS 2019는 딱히 데이터가 느낌있게 나와주지 않음.\n",
    "\n",
    "conference_links = [\n",
    "    'https://openreview.net/group?id=ICLR.cc/2023/Conference#submitted',                            # ICLR 2023\n",
    "    'https://openreview.net/group?id=ICLR.cc/2022/Conference#submitted-submissions',                # ICLR 2022\n",
    "    'https://openreview.net/group?id=ICLR.cc/2021/Conference#withdrawn-rejected-submissions',       # ICLR 2021\n",
    "    'https://openreview.net/group?id=ICLR.cc/2020/Conference#withdrawn-rejected-submissions',       # ICLR 2020\n",
    "    'https://openreview.net/group?id=ICLR.cc/2019/Conference#withdrawn-rejected-submissions',       # ICLR 2019\n",
    "    'https://openreview.net/group?id=NeurIPS.cc/2022/Conference#rejected-papers-opted-in-public',   # NeurIPS 2022\n",
    "    'https://openreview.net/group?id=NeurIPS.cc/2021/Conference#rejected-papers-opted-in-public',   # NeurIPS 2021\n",
    "\n",
    "]\n",
    "\n",
    "conference_names = [\n",
    "    'ICLR_2023',\n",
    "    'ICLR_2022',\n",
    "    'ICLR_2021',\n",
    "    'ICLR_2020',\n",
    "    'ICLR_2019',\n",
    "    'NeurIPS_2022',\n",
    "    'NeurIPS_2021',\n",
    "]"
   ]
  },
  {
   "cell_type": "code",
   "execution_count": 8,
   "metadata": {},
   "outputs": [
    {
     "name": "stdout",
     "output_type": "stream",
     "text": [
      "Crawling from ICLR_2023\n"
     ]
    },
    {
     "name": "stderr",
     "output_type": "stream",
     "text": [
      "100%|██████████| 89/89 [17:29<00:00, 11.80s/it]\n"
     ]
    },
    {
     "name": "stdout",
     "output_type": "stream",
     "text": [
      "Crawling from ICLR_2022\n"
     ]
    },
    {
     "name": "stderr",
     "output_type": "stream",
     "text": [
      "100%|██████████| 30/30 [06:33<00:00, 13.11s/it]\n"
     ]
    },
    {
     "name": "stdout",
     "output_type": "stream",
     "text": [
      "Crawling from ICLR_2021\n"
     ]
    },
    {
     "name": "stderr",
     "output_type": "stream",
     "text": [
      "100%|██████████| 1/1 [00:51<00:00, 51.58s/it]\n"
     ]
    },
    {
     "name": "stdout",
     "output_type": "stream",
     "text": [
      "Crawling from ICLR_2020\n"
     ]
    },
    {
     "name": "stderr",
     "output_type": "stream",
     "text": [
      "100%|██████████| 1/1 [00:51<00:00, 51.20s/it]\n"
     ]
    },
    {
     "name": "stdout",
     "output_type": "stream",
     "text": [
      "Crawling from ICLR_2019\n"
     ]
    },
    {
     "name": "stderr",
     "output_type": "stream",
     "text": [
      "100%|██████████| 1/1 [00:32<00:00, 32.38s/it]\n"
     ]
    },
    {
     "name": "stdout",
     "output_type": "stream",
     "text": [
      "Crawling from NeurIPS_2022\n"
     ]
    },
    {
     "name": "stderr",
     "output_type": "stream",
     "text": [
      "100%|██████████| 3/3 [00:35<00:00, 11.74s/it]\n"
     ]
    },
    {
     "name": "stdout",
     "output_type": "stream",
     "text": [
      "Crawling from NeurIPS_2021\n"
     ]
    },
    {
     "name": "stderr",
     "output_type": "stream",
     "text": [
      "100%|██████████| 5/5 [00:57<00:00, 11.59s/it]\n"
     ]
    }
   ],
   "source": [
    "for name, link in zip(conference_names, conference_links):\n",
    "    print(f'Crawling from {name}')\n",
    "    df = pd.DataFrame(columns = ['title', 'link'])\n",
    "\n",
    "    driver.get(link)\n",
    "    while len(driver.find_elements(By.CSS_SELECTOR, 'li.note h4 a')) == 0:\n",
    "        time.sleep(1)\n",
    "\n",
    "    try:\n",
    "        num_pages = int([button for button in driver.find_elements(By.CSS_SELECTOR, 'nav > ul.pagination > li') if button.text == '»'][0].get_attribute('data-page-number')) - 1\n",
    "    except:\n",
    "        num_pages = 1\n",
    "\n",
    "    for page in trange(num_pages):\n",
    "        # Get New Paper Lists\n",
    "        new_papers = pd.DataFrame(data = [{'title': x.text, 'link': x.get_attribute('href')} for x in driver.find_elements(By.CSS_SELECTOR, 'li.note h4 a') if x.text != ''])\n",
    "        df = pd.concat([df, new_papers]).reset_index(drop = True)\n",
    "\n",
    "        # Click Next Button\n",
    "        if num_pages != 1:\n",
    "            [button for button in driver.find_elements(By.CSS_SELECTOR, 'nav > ul.pagination > li > a') if button.text == '›'][0].click()\n",
    "\n",
    "        # Sleep\n",
    "        time.sleep(10)\n",
    "\n",
    "    df.to_csv(f'./data/conferences/{name}.csv')"
   ]
  },
  {
   "cell_type": "code",
   "execution_count": null,
   "metadata": {},
   "outputs": [],
   "source": []
  }
 ],
 "metadata": {
  "kernelspec": {
   "display_name": "base",
   "language": "python",
   "name": "python3"
  },
  "language_info": {
   "codemirror_mode": {
    "name": "ipython",
    "version": 3
   },
   "file_extension": ".py",
   "mimetype": "text/x-python",
   "name": "python",
   "nbconvert_exporter": "python",
   "pygments_lexer": "ipython3",
   "version": "3.9.16"
  },
  "orig_nbformat": 4
 },
 "nbformat": 4,
 "nbformat_minor": 2
}
